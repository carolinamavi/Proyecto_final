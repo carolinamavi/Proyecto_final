{
 "cells": [
  {
   "cell_type": "markdown",
   "id": "fq4F8xAMUxBH",
   "metadata": {
    "id": "fq4F8xAMUxBH"
   },
   "source": [
    "![image.png](data:image/png;base64,iVBORw0KGgoAAAANSUhEUgAAAU4AAAGFCAYAAACSfBoeAAA8w0lEQVR4Xu3dCZgU5Z0/8F/BzMAMDAzXcAwIyCGCB6jggWeixA1JJIfJBjfBbGLi6j+JeTa6iWRX/kn0/0SSLEkezeEmAa9NNIdmlxyaRDzwIkYU8WC45R7uGWaAGab+v2/122N1TXd1v31P9/fz2I9VPU0f1V3feq96y+ns7HSFiIhS1sv8n4iIUsTgJCKyxOAkIrLE4CQissTgJCKyxOAkIrLE4CQissTgJCKyxOAkIrLE4CQissTgJCKyxOAkIrLE4CQissTgJCKyxOAkIrLE4CQissTgJCKyxOAkIrLE4CQissTgJCKyxOAkIrLE4CQissTgJCKyxOAkIrLE4CQissTgJCKyxOAkIrLE4CQissTgJCKyxOAkIrLE4CQissTgJCKyxOAkIrLE4CQissTgJCKyxOAkIrLE4CQissTgJCKyxOAkIrLE4CQissTgJCKyxOAkIrLE4CQissTgJCKyxOAkIrLE4CQisuR0dna6Zrn84JOfiCzmlKO33pFFIur5yjc41/9MnLdf1i1Qa+7IpeMa0iNFGj4h7qT6SJASUY9VpsHpivPSv4kc3m7W82WmyClfFHcUk5OoJyvPNs4TbfmponezVuTAAbNMRD1VeQbn/i0i7UfNSj616439cUQ9XXnuxcebRDqOmZV8GiRSO9AsE1FPVZbB6bS9LdLZYtbyyJkkUsP2TaKeriw7h5zX7hBpWmvW8qWPhuZnRU47T9x+5q5SteV34mz8pVnpzj35YyJjP2DWiHqe8qyqH91tFvKpv9bUp4lbY1aJqMcqw+BsFzl22CznkybmwFot7ppVIuqxyi84j+8TOdFpVvLIOVtkgFkmoh6t/ILz8E6RvDfrDtLQPEPcKrNKRD1aeQWn64pzeJv3//waI1I/keerE5WIMgvOEyJt6BjKc1XdGS8ylKlJGdj5lDhPXivOE9e8c3vmcyLNm80DKJ/KLDjbRVrfNCt5VK3V9L5mmSgNzv7VerzHmWdUDMosOI9ocO40K/kyUmRQg1kmSsOR7SIH3zIrVAzKKzjbD+S9li69zhMZ3N+sEKVh3yv62y3EEDpKpLyCs3WPWcij6tPFHcjBm5QmdGju+5v+vwBD6Cih8jnlUj+ms/W3Ipt+be7Ih2qR0XeLOynL45COHxRnx19E9r4s0rZLpAMzPZmvsXdfkT6DRYacIe6oy0VqRkbuz8ShxsjrHVirr31IX8rMyYfX6jtU3OGz9XPOiaxDLk65PNoksucFcQ5plfXI21oCa4n93IDXr6gR6X+SuMPOFamf9c57yhVsm51PaFX6dZFjum06j0fud/RgWdFPt/8ofS/6PkZdlt57OfimOGu+q5/1iLnDp7K/uGd+VaR2nLkjQxhtotvX2fVU5PMcbxY54ZtFrJf+jvU1ve1brzWp+vP1vgrzx/JSPsF5rE2cxp+LNK00d+SD7rxTv6DBYlZDOH//v/qjXWfWfEZcJO6p10eWNSycDQ+I7H4utY4Cp7cG6HRxp3w28oO3hYB+48camGsiO1UYDQl33Ic0QN+jAfecOG/e806IBKQcnHj9t5eL7NLv7DiqqpY/1d59RDTUvddL9fM3bxbnlf8XCWY/DQ13ynX6fBdE1g+vF2fdMpGWTcm3DVRUi3vSVSInvS8SqsngObc/Ls5mPdinW03Xg6Y7faEeSAeZOxLAa+34qzhbHtX9ZJ+5MwX6maRhTuR7L7MALZ+qeof++Jrz2aOum3aAlsIyPVuoWXdM7MRa4nJe/qY3LCXl3lWUDPe+FAlllNhsHN4gzku3iex/NbVg0BKRs+F+cd7SwKzSD53hjuSsf0Cc524S2fr7SCnXNjThxLFIIPxNw0NLbhnRg4BzyDzH7pXirNZwbd6Y2raBDj1waynceVMPRMn+DUL5pa/pgf7e9EMzVTgYr/m2HgS0UGETmqCfSTRsnVVa6m3ZYu4sD+UTnO36ozhq+cPIiB7lh54irh6UM4LA279Gd7ifRKqo6WjdoSXHH8ZWu8IgpN/4kf5/r7kjRQiEXc+I07RKf1mZNU+4/caYpSzQz+Gs/X78Er0N9GzvW+2FesrbMoZuH4Tu5sTNRc6mh/QA+Q0zPjONg4WN6MFYP1NGr4Xf16uLM9++PUj5BOeJ/WYhH1AVO0tkcBY6hbTU5JVSDrxh7kjTocZI6S0ZDT+v9KE7Q1pQytVSXsYlpfpzRfqPNStZoKVWp/G+NAPPaN0uzmtLTAk4TejkQXsxvo94jurvtLPDrOSQboeMDsZBxw5EmmdsazY9VPkEZ8tWs5APtSJ1uuNnq1/Cq5pnWPrQHdZpeiFS7Q+z62kN6dfNSpoQDpn2AvfuI+7IS/QXWmnuCED7LTpf0HaJWyolXITEnhfNShpQos7GIPTjh8XZrdu5gJwtjyQ/GKONeMAErTxN1d/zFJEqXL0gpDDQujPSJlsGet92222LzHJJc3bpUb4lzVKUNa1mjvmIuINSL3E6O59MsY1JnxM95aPniDvh4yINl+uPe6I47c26QyYpVaOzZuDExD3tKN2iXS1ZFR3tl4NOE7fhCq9n1ek3SkNFS5qpduDov5W6U8xKCH2fDsYwHscF7vRz9xkiMuoScSdfKzL5U5EOppPeH7mNvUqk32hxDmoYdCa4LAoOHuiYQW9wIuiQ2v1MZFslg+2ggeKO+6AIOkhGXipO30EibXt0W7aZByXgaqkSPdO9YwPfObg2clow7sdBwzsAJdimXs99TSTg8PjgDZ1CGPEQ7M3HSICNv/C+77i8bXSeuNNvjXT2jbhYP5sexMa8Vw9SteI0b0i8ffDbGTjJG21RysqjV721WZw3vu01uufH+0TO+7hV+2bCXnU/lLI0LNxxH478uP1Qxd5wv8i2x8zOFp/3b8frTh5P2NCXKC11uFNviIRf0L6XdTtr9S9JNd1qOBLO0d6/Wtyx87xhMElpidl562eJd2wMD5rxNVN6iiNRr3pQ2HZA+GI7HtaASQSjEM78t0iJLhFUf1ff7pXk4tKSdjrDkZx1un22a0EikWEzxZ32xe6/sSi0Y+M5EgUvDuqTFpiV0lQeVfW2bXrLV9tLne4MerTOxfDB4fq88UIT9D53rJZ8NBjCOEcTnwTgnQ8dFpoYkoNSbrywgCEzxJ0433tc1oy8WHfiL6QWmjD4jPDSDgIxkzZKSLYdqur0u9ASMEqCiaDK7004k2caxqFNMVUDxB0zN3FoAkqxiT47oNSf7MDTw5VHcLZiwHSGO0vKtAo6XKvqIb+7tKCEMvJd4T9otPWhPSpMWGg0JxlSgur18AvNSgL4eyrV8FxBSTJ0zGYW2l8R4hjUHmagboPqerMSB6rqhTiNErWaYyFNOv219IqqdhgcpIdM1/RIMOQMJwKEvUYJKI/gPJ6lnsNUVJ2t4ZGDwcBol8TOmIRbPVx/2CFfa6JeZQRqWNumPqe3s4QFN2CnGngqFiLrJcgdfGZ4aRIQ3lUhA88R3idSaEfNMgcD9hNVsZU7IEloRmHEQ68E2wC/sSNayythZRGcTmu+vsRIic+tNKvZ1G+0F0pJVQ7Qx6UR3AjOsOpV72qRVHeqWi2RJQsWW9gZ9/7dGyqFdj/n+Zu8+Si929OfFWfFJ7vmqczpeEJ8rn4pznaVqB21kMJmB0MJsk+dWUkCHU6JRjygGYIlzh4OQ0jQy5kPznkiQ5Kc3pYmrySZS/ixR89BjwdnA+Ec+FSgpJXhmUMejGfcuUKcVV+JhOOa74hs/3OkjQ5t1gh63NAuG/beswlhkevvIpe8kQ8J6PZ23vpp7GTJiW4v3qLPddD8wyDd5zJtDilypR+cR/TLPZ6PKpGWBvtfpNVUs5pN6GzJ9fAOdFSEjVGMTqCRCoQsxlhmAj38L94cGVTd8nb+gjGZytriLEmmIlmtglJW+sF5WKttHfkIzhEiwydmb9B7sUFJK+Xqtx5EwtpZk8FpiTiFL181hXIRNiaUrJR8cDqHX9HfSq5PYcNZLBiiYVYpfZhcZP2DiTux/DCuFSXA6Nkt0RvuI8qhEg9Ord415+OSA/1Fhl4sbtgomJ4OpRW0F+eYN41cwrYzo+8wb4o39+KfiXvhj8Q9++ve9GnRW8Izo4iypLSDExdny8uMSENFhgwxyz0UOjwS9ZICOmCSBVoUTv9sDxlInwjaWcPOtgGc4njON73TG7PSAVVOcApmWGkcY4WnfUG37+0Z32TUu8yTlqbSDs5jTbrDh3R4ZIWjP8Y5Iil2OBcthCaqvokgCBGIqUAHRDrNI5hKLew1KmrEOy88dIA7hQqbhT46sgKncGZ6K/HvqLSD8+Ams5BL40VGnC5uSOb0CCiJVIb0hGPSCvRup+LI1tTaKIMwmUdYzz5KxcnGkiK0k02wUc5qQ6bqw2TN+O4oqdINzo4OcQ7lYVZqXMVy9ECv4NmjoRoXNsxGA83Z95JZCedgAHo64/hwJk3Yv0ulZx/n4uN8bIrL7XeSbseQuQT2r03voFdmSjc4T7SKHN5oVnJFw2bI7NxM6FEIyc5R3r9G5MBrZiUBTNCLSR4KxMF8oum0rxYjb8q4kB8XDjId+ju3ge+4T8gBEpfAePtPZoUSKeES536tMiaYZTtbes0UGdpDB0PH4eJc+LAdVXdSZ91SkdZd5o4Avd9pXKZV7jQnr8Ag/7DSEMZ1hk1IvesZEcxrWipjFVG6Du2waxNn7yqzkqK+wyIzSCXinhBn6+8i17aygctwrL9PnJf+oyxK/CVc4mzSH0GOd6C+54k7oqfX0X3qpkbOiQ+DWb5xITFcXgNVcnTo4JpIr9/t3e9dXC5dyXr2Mc8lgjl49otWLTExL04XDJvAokdC0CWkv+/tfxHn1TsjtQF8F/hONv9WnFe+Jc6znxfZ/ax57DvcUVdEmmYSwfZc91Nx1v4g8YEKp8PionIIy+e+KM7zX9KS6h/tS8A9VOlOZLxDfzxv/cqs5EKdyNjviXtydobEhE5kjPkf/ZemDaM7StileWXgZHHPus2sxIGrQmIW+LBOmgwlnMhYA9FZ/c3knVAYhtS3PnJqJ0qhmJ4t1ev0VCaZ/DfZRMY1KV5yV3kXvEPTQQIpTei87Y+Ri8Ol02Yc9rvZ9OvI5YBTOZUVtQDMKB+FbZ2oHdRi+/RkpVnibG8X50Auewe1lFmlP/hhJTiOEJPUarhmxBvalEZJHENYhp6lC0n+LXZcXEwOl/zFLDzB0ERzQ7ZnZyoU1AIw41W24VIfXqCm8D3hIIwDSfTGzqMSDU70rDbn8jznfiL1F4mb4pwXPYoGjjv+I+lPZIF/f8pntEQXckmIEF41EtcwShdeH9cjGpFkwuWeApMmDzlTF7LcJIR5U3HtpnpMyJzl5y4DpRmcxzQ0j+K61LmiP7bh6PE0q6UG1XlcT8c2PBFaJ3/UC63QK1SG0SqeF7zpBLeWNN1JGgZ4/XotTWU6Q1OR8Ab9J2t7Tge219TPa+lznvfdUepKtMSpoZmzllvdoQfMLs3Spt+g08Sd8R9acjxZV1IokeD88dNuEhl9ZWQdl5ZId95KBDcuZOa1Q6ZSGtLH6GPd6V/1rlHkwQiBAXjvJQDbdvpXIr3hNk0gvfTIHjZKAVDy1BqGO+tOkaFnp3ewAwTvkOkaxP+n5Ns3oTQ7h976rjg7Uhusbe8ikTOvF7enn2Jp48Br4uDqmRij2dGsByX8ZHQHxjjDfg2R0iWuNZTtc8fxOvtW62v/IdJj7PXYmp8rAgFtohqO7qh3a9CfbhcqPRUu7Yvtge8i2CmGtl18J1q9d4edG6mGhw0viwftl3tejFyDHz3q2ObBNs1oZxEu11x3irhDZ0baxcto7oASDM4OcVbdol96jq4g2P8b4s4skZIMEaWl9KrqB7RkcixX5yrrUXXICLNMROWq9IKzeYMWOnM0CLr37EinEBGVtZILTqdNgzMnM75XiAyaKW5pdNQSUQZKr41zw33ibHs1MmhXkvQopgRnbPQRqb1Sa+oXi5uDschE1LOUZq86PhHOJMvGJ0NHLcrlpTlwi4jSULrnqhMR5QjLUURElhicRESWGJxERJYYnERElhicRESWGJxERJYYnERElhicRESWGJxERJYYnERElhicRESWGJxERJYYnERElhicRESWGJxERJYYnFR0Ojo6ZNeuXXLbbbfJ7Nmz5ec//7kcPnxYOjsxGz9R4XEiYyoax44dk/3798vSpUtlyZIl0tTU5N1fVVUls2bNks9//vNy6aWXyqBBg6Sionyu4U3Fh8FJBXfkyBHZs2ePPPbYY7J48WLZuHGjd39lZaX06dNHWltbvdJmdXW1vPvd75brr79ezjnnHBkyZIj07t3beyxRPjE4qWDa2tpk27Zt8uc//1n+67/+S9asWeNV03v16iWjRo2SM888UyZPnizPPvusrF+/Xg4cOOAFaF1dnXzoQx+S+fPny5QpU2TkyJHiOLg4FFF+MDgp744ePSpbt26V559/Xh588EF55plnvFIlwg8heMYZZ8jVV18tH/7wh6Vfv36yadMm+e///m/5wx/+IG+88YbX3um6rlfixGP+8R//UU499VQZPny4eQWi3GJwUt60t7d7gbly5Up55JFH5IknnpBDhw55gYnQO/vss+XKK6+Uj370ozJs2DDzryLwb1955RX5zW9+I08++aRXOm1pafH+NmbMGPnYxz4m//AP/yCnnXZat39LlG0MTso5VK/ffvttr2SJUuNf/vIX2b17t/e3wYMHex0/73nPe2TevHly0kknhVa7UVr9+9//Lr/73e/kr3/9q6xevdqr3qOtE6XO973vfTJnzhyZPn26V6UnygUGJ+UUesYRlH/84x9lxYoVXokTEGoIzHe9611eSRFtlegMShVKm88991xXEL/22mte9b1v375y+umne88ZDdCamhrzr4iyg8FJOYEqOKrUjz76qDz11FOyYcMG736EGKrkc+fOlcsvv9wrJaK3PF3oMEJb6eOPP+6F6FtvveXdX1tb64UmwvP973+/F8wY1kSUDQxOyiqUBKOBiRIhOnNQVUdpEp0+qI4jMKdOneqFW7agZPvCCy944fn73/9etmzZ4t2PDiT0zl922WVeO+jJJ5/s9doTZYLBSVmBtse//e1vXu83SpgYPoQB7TBhwgT5p3/6J6/6PGnSJG8Aey6cOHHCO+PopZde8oJ7+fLl3vhQGDp0qNdx9IEPfEA+8YlPeIFKlC4GJ2UEvd3ooLn33nu9wMTgdQwtQntjQ0OD/PM//7NXVUZJDx1B+YD3hAB98cUX5f777/c6kZqbm71Op/r6eq95AOGJIU/9+/c3/yr7EOTo/UcbbL5deOGFctZZZ1m1G1PqGJyUFlS/UR3GeeS//vWvvU6faGAiID/+8Y/Ltdde65U2C9W7jRIvqvAYQP+Tn/zEGwaF+1BVR4BOmzZNPv3pT3vNB+hUyja81n333Sdf/epXzT35s3DhQrnuuuu8cbCUfQxOsobzyX/4wx/KsmXLZOfOnV2BOWDAAK8q/C//8i9eqQ7rxdCeePz4cTl48KDXgfStb33L64EHDGFCyJ9//vneefCXXHJJVs+BR3Dec8898oUvfMHckz+3336795lyWaIuZwxOShnaMREE3/nOd7yqMKrECEz0iqPD51//9V+9c8hReivGDhiM98R58Qh8BChCHxCgKBW/973vlS996UteJ1Y23r8/ONFMgA4xDMHKFYxcwFhZ1AYYnDmG4OSNt0S3EydOuBqY7gMPPOBqtRsH2a5bZWWle9ZZZ7kPPfSQ29bWFvffF+vt0KFD7h133OFqld3VUOv6TBqg7o033uiuX7/e1aCN+29TvWGbfP/73/eeV8PZ1VCO+7hs3e677z7vO8HraXC6hw8fjvs43jK/cVwGxYXSGc4Jx8B1jIVEeyVKNCg5YSwmSmWorqND6CMf+Yg3i1FPgqFQt9xyizdkCiVCnCOPcZ4Yf3rXXXd51favf/3r3hlPKDkS+TE4KQYCc9++fd6MRZ/85Ce988YRjrgfbZaYrQgdDzjPHD3mPfmsHFTHx48fL9/+9re9sZ+f+tSnvPPecRDYvn27F5yY/xNBilmc0FRBBAxO8mj1Q/bu3StPP/201wuM4To4HxxtgghMjIFE+x9CFH/P1VjMQkAbJwbJY/Lkn/3sZ96UdRg+hRIoZmb68pe/LFdddZU3kxNK3ZgOj8obg7PMoXMHgYlARIcJquSYGxOlTgTmjBkzvGEtv/jFL+Tf//3fS3rmIZQ0ce48OnQQohghgBIpSqYvv/yyN1rgM5/5jPzyl7+UxsZGVuHLGIOzjKE9D2Mb//M//9MLR/SWo00P1W+c542Q+NGPfuT10GJ4UTH2lOcCPj9mWcLYT1TXMYAfszahuQKnk37xi1/02kd/9atfeQP+MbqAykvv2267bZFZpjKBTh+c141S5Pe+9z15+OGHvckyUOJCQGJAOIay4DRJlLhQlS1HGFaFTjCc547OI2wHnIGEEjomE8HAerR9YpzowIEDvaE//oMLzhzCFHg4fx73n3vuud70ebmCs5RwqimaXXCJEbweJzbJDQZnGUHbHHbkBx54QO6++26vyrljxw4vENDpg9nUUcpcsGCBd1YNd7oIBCKaLM477zwZMWKEN0geA+oxpyjCCufoo6SOAMWEzBjXitEHDM7SxeAsA2iLw/nkOP0P7ZcoYW7evNlr38S1fXDONtrvUMLElG+ZTPNWqhCEGCSPJgyEKHrfAad0IkAxOz22cXS7RidkZnCWJgZnCUObHDoxcKYM2ip/+9vfyptvvum1yeFcbVyrB1VynFeOnYznNSeH0jk6yDBZMkJ07NixXkke4RkNUAQYptNDiRPVepzqyeAsLTzlsgRhx0HV8aGHHvIuuYsdCiUjlIRwbjZOLUQ7Jk6PRMmI0of5R9HeiRmQ0GaM8+BxwMKsRBMnTvTajVESReBioD064HIFTTAYW4sDI0+5zC32qpcYtL3hjB4M5v7ud7/rDVTHnJQoTSIs8Tf0FGOoDUMzcwgmNG989rOf9YYxfe1rX/NKoQgvlDpRAo3CfeyBLw0MzhKBs1rQ2YPB29/4xje8cZmoOqIjY/bs2fKDH/zAC1IM5B43blxWZwGiyDWUEKAoVeIKnrfddpvXkYRSPqDajvu/8pWvyNq1a71aAfVcrKr3cKgWog0NVcBXX33VG1aEnRRVQwwtuv76673r+6C3NxdzTlJ3CEtU4TFfKc5EWrp0qVcTiJ7nP3r0aK/0jw45dDLh/mxgVT1/WOLsoRCOGLyOc8lxeiQGZqMjAiUZjDn85je/KX/605+84UWoOjI08wdBiElEMKQLpX98D+iIw3eAU1jXrVvnnZmEqfhQC8B91LMwOHsYlGZQ1UMgoiSJXlRMLIwgRWkGc2KiMwJntkRn/KHCQICibXnmzJleqRMddeiYQ8cRhojhukz4ntBJhyFi0Wo9FT8GZw+AHQqDqzG0CG1kGGqCIUY4AwhVcrSvoXMCJZk777zTGy6TreofZQcOYGhrRkBishDMOo9QxfeEXnlcgROTHP/mN7/xZtTHgZCKF4OzyGGMIM6HRhvmFVdcIYsXL/Z6ybEjovMBVUBMAYepzzCYnYobTi5ABx7mOcV3hguq4XRNBCiuzomTEDCuFheYi7ZXU/Fh51CRQqkDl3ZA+xhOj3z99de9+1HNQ4nyggsukM997nNeKYbtlz0X2qVRe8AN572jEwkwbR8C9pprrvHaSjH+FrWLMOwcyh8GZ5FBCROD11esWOHNzoNT9gDDh9BmidP9UMrENcpRUqHSgKuE4oqh//u//+vVMFDaBNQqcErsBz/4Qe9sJQSqfyIRPwZn/jA4iwTGYWLSXFzKAe1gqKphB8BOgp0HHQgYg4npzkp5TsxyhhEROCUWbaDoSEKbNqb+QzV+0qRJ3ggK9MRj0uV4B00GZ/4wOAsMP3JMDIGrE6KHHGf6YOoyQECiw+DKK6/0zvSJTixBpQ0HUdQ0MAM/TuVEmGLIEg6imIkfVXhMdYeDqX9CFgZn/jA4CwQD19GmhUtVoB0TJUyc6YMedPSSYwozBCYmhTjllFPMv6JyggMo5k3F7EroAETvO0ZXoK0TZylhED1mrMdkI+gsZHDmD4MzzxCMmHADOwJ6VhGcaNNENQ2XqkAJE2GJHnRMokuEcbpowsEZYghRtIGitx2dgugkRPUdN0wwgg5DBmfuMTjzCCWI5cuXez/+559/3rvwFwITA9cxSBqXaLj44ou9ToCedrldyj3USFACxRU5cd47hqWh/RMHXPx+UOpE7QWhyuDMLQZnHqDNCj9odPqsWrWqq8SAHzoa+jHzOtqspk6dyjkxKRRqLGjiQRsowhPt4hjChPZPVOHRBITHMDhzi8GZQ6gy4bo09957r/d/lDDxw8YPHJefnT9/vjesCG2YKDXwbB9KFcIRk4jg9FockP/nf/7Hm1gkCh1Hn/70p72hTBgDStnF4MwBlCbxg/7pT3/qTb6BXvPotbiHDBniTcqBs0MmTJjgjctjYFK6cCDevn27V4XHOFCM/8V58Bj3i1n+0QuPQfQYysTmn+xhcGYR2isx9g5TiaEEgEHNCEyUDjBsBBdBw2V4MVsRes4TDWQmsoWwRBsohrXhMikIUtR4EKA4OOPUzhtuuMGbGIa/u8wxOLNk165dXgkTF0RDLznaNRGY+OGi0+fWW2/1quTRiR2IcgHDlXAaJ9o/MXk1DuQ4oON3iPZOnKL75S9/2euE5O8wfQzODGFg8v333+/Nr4hpwvAjRWCiHRNDihYuXOiNuUM1iT9Uyhf8Dvft2+e1r0cnhgGUNnHwxpA3BCiGv5E9Bmca8KNENQhDi3CJBMyPCQjGaE/5zTff7HX8YKgRUSFhshhMmPzjH//YazqKzriE9vbopaGnTJnilUp5cE8Ng9MS5sDEzOt33HGH93+IHsVxqQrMi4lT4tCGSVRMMF8rpidENR7nwKNaDw0NDV77OzqR0GGJgz+FY3BaQgkTPz5M+4ajM9qNcBlY/OgwvAgTchAVK/TC4+QLzAWKs9ZQnUfHEqAHHldBxem+yaawK3cMTkuonuOyFQhOHJ3RVoTzgzF7DVFPgbZ5DF1C+zxO50TnJpqY0MGJAKVwDE5LqN6gwwdHZIzHxCSzRD0V5v3EFHa44ZIsmIWLZxslx+AkIrLEkbBERJYYnERElhicRESWGJxERJYYnERElhicRESWGJxERJYYnERElhicRESWGJxERJYYnERElhicRESWGJxERJYYnERElhicRESWGJxERJYYnERElhicRESWGJxERJYYnERElhicRESWGJxERJYYnERElhicRESWGJxERJYYnERElhicRESWGJxERJYYnERElhicRESWGJxERJYYnERElhicRESWnM7OTtcsE2VmyzJxNj5mVnyqFog7e45ZScO2h8VZ/4gIfqnOOJGJC8UdXRP5m2etOE/cYZYDTn5A3LFm2a9xiTjbVkWWK2aKnHqTuEMjq0Ut6bagfGCJM6i1VaQl5HbUPI7yo7NRnA0mKMDdrKG3VJxjZj0dzSveCU3o0OU3l5uVIpaLbUFpYXDGaBLn5evEWRVyW7vWPJby4uAmDQyz3GWPyBGzmI79W8yCT/teccxi0crFtqC0MDgpe8ZqlfwyrRqP1qpvttSNj/MrrRfpZxY90yKve94NZj2JwXHq7pVDuwpyRSulbUH5wOCMUan/DROp0Fs3el/tHJEBdWadEqoaZBayoNckcSfM0//rd2PWZdK14vaJrMaoTvG7qb1Uw322dBUxK3R5ylyzUsRstgXlFDuH4tIq+8qbRI6bVRi+RNyp8QKVugl2EmXaOZSyOJ1EiTqHiDLAEmeqMmkAQ4eTP4SzAR1V3dq7AjrbU3tcMkf1OVr1ubIFz1cKnWz4HC1Z3C7gfWdZfs6g6O8i27/JMsISZ1xxSpwjtMR5qq/E2ailqm6N8kNFJs4Vt78u7lghzpaHdec6GPkTOFqVrL1aZKpWFavNfX7JnnPTw+JsWy7S4duxKqaLjLlO3HHRaqruEOsfEWeHlvhO+B+n1dEJWq0blcLQlc5WLTHq6+xeodvA9/69poxpui3mi3tyQ+LDbrwS59R6cdY9qG9vu7kT9Pn66vsae03897VnpX6O9WbFb6K40/XfdZNCiXPrcnH27zUrPpXniDtNP1uYA/r8W34vcnht7LYFfLeV40QGXyHSME3cAaY6HZXodUfptqnX/+v35WzU30u7fn8es63x3Y7V57beFj7e96nfR5N+n0ebzJ1R+jq99fmrL9X3MlPc4fq9Vpg/UUIMzriSB6fz0jW6A5mVLpNETtd/t3mRSHPwB+rTW6utM3WHCYRn4ue8UWSDPmerP8T89Mc/YrG4p+hzvHCz7hyJSiz6uJH6uCkhTQ47dQderwHnD+d4MPZxyk3ixnuqbuM5ESJhz6d/H7xQ3DP1s/olGhcquv0u0+1n1t6RQnC+sUicXY1mxSesOaHzoDivLtbg3GzuSEGqr4vHtSb4Gwy4VdyzNUCtt4WR6vcZlbdmlZ6NVfWs0mBbtzA8NOGE7gBrfOMIQ+E5w0ITdKfYdZc4q/RxCUMT9G87l4rTbFaDsHO+uSy1nQxjH1/THX6/WQ+V7Pn07/tvF+eNJNutEDr1ILpKv1Ob0LSxX7d5otDM1LYHU/8+yQqDM03utHu0inS7SD9/FVN3/GMIOC1BDbpZ3Jn6mNlLxT3tVq2SotTlc0Sr8i1m2fCec7KWGOM+p1YDx9wu7rn6fOfr48YFSwW683nhmuxxqzVko9VBn2OohgZKNDULRM7REhGG+uA2+Wrzhyh9zQ0pHgAq9X2cpu8Jz3OJ/n+yPndv8zeP7ty77okN9frL9ePo9hgSKIlmouHayHP2jzZtJPHWXYGDlhaxG3T7XuTbLrP1McmGBE24RWss+jsIfpaDZpujyWXEDfrdzQ9sF8N2W7Tp94nmFr++80TOMN9B9DZR7yNrDM509dVwGzRO3OEXmjuiNCBRbZ6uO0J/fUyVrg+bpuvXmb9HaYDtM4tReM6G6XGeU+8fr1XZiRqKNfp8eNx4DZ5gO1rcx+mOGNypD28yCz6bH9WSsFmGqvka/HPErTXr0DBP3JMC7WktjycuwXbRf3O2VgGHmfeL4TQN+txT9TPEWCuy1dcGWt0g7njdHqMvMHdkwQD9zvCc9bPMHSGOrQqUBvV9n3SHhr5uX387YJWGcLyw86vS72KE/g7ifZY+qB7rgfbU2frdzdXtFCccbbfFRi1p+r/PSj3onXu1uEMCv5l+A80C2WBwZlsvLVmdEqfhr3qy7jxmOep4nJJfPL0u09KG7ngBbo3uwH4Vc+M8rlLDL1kpZbs4Tf4zonTnGqmfI96vY/wVgfv138UrwfpVTYzfGTZUX2NQ4P0eLKIzs7auMAuGho87ofv3kBn9rYxPsK3xPVQEfzSpaBRnb6ATbpQGMvf2rOGmzLaKoQl+oLqDBAcqd6R4rhye0yzG0FJIjF416Z390rI50Aw5TauGgZJJFAZdB0uwLXFKsCly6wIlv+M7i+TUx3ZxDmitwK9OaxFZN0MPUmYx6tRFpiqt1epgh1kqduvBJ2YImm7jhgTfJ6WFwZlP2U4EJ53SSByHgudu14tg+FMifQMlaq8NNk3VwdK5hvABs1hQejBpM4tRtYEDVbE6HOhsQomfZxdlFYOTuve6Vo0MLbm6GPfndyKDWSYq41R90yo2Z9vxQKltXPIOoGIRrMn0wUBRyiYGJxWfYqirtwRL0VrV7SF7i3Pc376pHFbTs43BSd3ZtjNmUqLpOlMmarxIFucIIcoFBieJ1AZ7J7SqFzI5rtMaaEMLtnnaaNlhFoyqIpnerds4Ty3FBds8i5RbFWiLbc+gDZriYnCSSF2wxPiySJzTqiOaJHaCDq0GZtBp4jTra/n1DQyxKhgNzphztrVkjMlaeoKqwPd5bEuRjFQoHQxO0l/BtEDHhwZEU6BUGbV7Zew5/BjqMsIs2mpbJXLAH0YawoMmm+VC04MBTiLw2/uiWQjo3OxtsqIxaKJZMDqfENlmloP2v24WyAaDM56OPXozy8m0pzp2RqtLqU7jdWSdWUjiaKATIBE32bnKleIODZwRdGCJOFsCadC2OXLNG79hV6Uw1EVfPzi1Xcd2cV5dalYMTH4yLk5HxrFDZiEJTJeWqhS+N3e4vh+/ow+Isz5Q7cXMQy8v7v57SXR+eLc2XUupbIvBejDra5Y9+ppbHhYn2NTQtFyctwOnzOLzmEVKjLMjxWgU56nbu08Z5hedJWnrgxosWgLpCE5MUaNVPC2+9Zkn7qxLdR07lj5ns4bxicBO00ufB4eu4YvEnaxVw7cWi7NHwzDRcw68UdwzJolsWibONq3iJnuc93xaGuoItnEFHudpEufZm3XH9H92DbG+uhNW62NxMGlZHTtUCKcKnhfnrJe4M/noa/adEXmudv2MR9YGhh3p5z95sbhj9XFRe1aI06hB3a6fM+ax+r4wJMrRsL/oanFb1oqz5h49MOnnDIZnb93GSILx+r2N1v8n/N70OSv0Obu+N0iwTfroNqnRz4G24EP6XHED2zxf9HWTfhYsm8/j3R+Q6rYw98rb+h2sD3wHjpai+2vtAk0Qx3T7x0zx54PfZbV/O1AQS5wxtEgYFpp+KBV22/lAwxH3t0eLl7pztWp4BUMTOvVxeKx5TQfBlMpzHt2U0uMizxevYyD4HmGYuDM0JCp0R+yi7+uoVs0P6A7YHAjNCg3MGYlOFYxHXzP6XBp0sTu/7vij9eDhD01o26Jfib7Pbkmi7+uE3t9htimG32CeyXgB5j1Ob9HzthN+b/pv422TyfN1Q5pVjz7umPkcB/T/3muO0/cfnADFPF/0dZN+FtzM54kn1W0RNUbfT12g087V7dSM9623aGjW3CAyILLYBb/LmO1AQQxOekf1NHHP12rnoLAOGt0Zh9ws7mwtbcY7/xxw0bbJ1+lOqc8TWu9D6W2uyPS7xJ0U2MmLxdA54s68Vd9nINSjvHlJF4o7JMHfC6ZGD4Ra2h2lJdG434Fue28Gr0ATDaWEVXWKD210u7UKjNP3jmlppuZMLZk0iDtUA852hnD0Rh/eJE4bSmdGlZbmhmnVMUtnjeaFlmq9ppRoKVKrvV0zPhUzlIr3bdYaiDmjSKv27gg9qPWkbV9kGJxERJZYVScissTgJCKyxOAkIrLE4CQissTgJCKyxOAkIrLE4CQissTgJCKyxOAkIrLE4CQissTgJCKyxOAkIrLE4CQissTgJCKyxOAkIrLE4CQissTgJCKyxOAkIrLE4CQissTgJCKyxOAkIrLE4CQissTgJCKyxOAkIrLE4CQissTgJCKyxOAkIrLE4CQisuR0dna6Zpkov1rWirP+b2bFb6K402ebZaNxmThHzLLf4KvFPanGrBDlB4OTCmf/Y+K8ssys+M0RuWyB+H+YzkvXiBw2K34jloh76jCzQpQfrKoTEVlicFLh1F0m7uSbtbo9ydyRmDv5dpFx8/mLpaLAnyEVTq9KkYbp4o65wNwRonacuOPnivQ360QFxOAkIrLE4CQissTgJCKyxOAkIrLE4CQissTgJCKyxOCkHqRJ5KhZJCogBicVoU0i+82i3+6VIsfNMlEBMTip8OrqzUJUo2bnapFOswq7V4jz1sNmhaiwOMkHFYF2cVZdJ9LSbtYNp06kd6UG6EG9Rf+m6/r4LpzkgwqAJU4qApXijp9vln1cDcyOJl9oThIZf7VZJiocBicVh6FzxJ2yQKQCJcogva+f/m3WInEHxPs7UX6xqk7F58BmcQ5qaROqhok7rEH/H1ntNocnq+pUACxxUvEZhJmQpkduDb7QhK5qu1FVZxaI8ofBSYW3Z6U4q5eJs+oOcZ5+WBxzd1yHtpgF0Gp7FavulH8MTiq8tvVaPX/MuwaRdLSaO+M5KI6G7DtmiQRHMhHlAYOTioyG526z6NfZKs5rS2LPHOo/U9w+Zpkoj9g5RIW3RavpG7XE2aVG/9PSZB/TuNmxR+SIBmpM+2aDyNQ7xR1uVonyiMFJhdctOJOpExm9SNxJ7E2nwmBVnQpv8AUiA5JfsM3rDOozV2T6XQxNKiiWOKm4tDSJs3+7yAmzHlXdIO5gDUv/0CSiAmFwEhFZYlWdiMgSg5OIyBKDk4jIEoOTiMgSg5OIyBKDk4jIEoOTiMgSg5OIyBKDk4jIEoOTiMgSg5OIyBKDk4jIEoOTiMgSg5OIyBKDk4jIEufjpOK07WFx1j8igl+nM05k4kJxR9dE/lYwTeKsvEnkuFn1G3CruGdPMytU6ljiLKSOdpGW1sQ3/xUdy0lnozgbTGiCu1mkcak4x8w6UYGxxFlIyS5S1muuyCXzu/KjbOx/TJxXlpmVqEkiZy4Sd7BZLYiD4ry4SKTtYOCKm4olzrLCEmcx63xCq6xmuZzUjY/zy6wX6WcWC6ZO3FlLxL1kqbhjZpr7qBwxOAupeqLIoEtFKhO13Wl1fW+jWS4jvSaJO2Ge/r+ya10mXStun8hqUagcZBaoHLGqXgw23C3O1pVmpU6kt1YFu67yOEer6wvE5SGuuASbWVhVLyvcHQuuVZymaGiqyveKDPNfY1yr65sD7Wk2jpuOpk6zno6j+u9bM3gPUd57ycLzpCra+dZh1jOF54rXo56ObGzTbH8+ShlLnIXWslKcVXebFVV/p7gj18Z2jvS/SdyZFm1qe/Q5Nz2qO+Z2c4fhaGm2era+xgXijhknUmHuD+rUMN+4XGT3Cg0KLf120apzpZaqRswX9+SG1A67B/SzbNT30rz2nV5y6DVMpK++l9GX6ufV5ehz4b3vWG9W/CaKO10fH6ajSZzGx0X264Eo5n2DvvcKfc+1l+j7nyVuvW6LZO//yHZxNjwoclDf+wl/yNVorUDX/fclK3Fma5sm2p54T31niAy5QtxxeuDl9edzisFZaI2Lxdm22qzojjNNg7Ned9hnbhHp2i81MC64IXkbX+dBcf6+SHeqJnNHGN1Zp+vOHmyq2/mYOOs1LFCaCVOhQT5FA10zLz4NirVLNAh1B0+m4mqRi+ZFciDhSIM5IpctSDzCYPOD4mzWYEr115ws6DbcI85WDblUhT1fVrapxfZEGE9aKu5os0pZx6p6QWnQ7Y2Gpqq4wOs8RoC6gzREu2gJaluSnU45axYGQhOlLN0LceutyzG0zhkMGYTWm1rSTbaDQ8cqkdcWibPfrMfQnfylm1PcyVXHIbOQpsYlWsK2CM1ksB1sQjNMtrZp412B7anfZ+/odxvsXNTX6mojp1xgcBZSs4amf5D7oJnv7PtDNUT9ml40CwlolV/2+6qAvbWENktLHRctidwu1uXxel8ix7QKuCVQ0qtZIHLOA+JeZm6TtWQYo1FLZrqzB2EnP+yvjmq1uF5LZOeb55mtfx/sPzD41F8uMk5Dd4i/nTfEXi3NbfO/Bw2U2uti3zeGDzWk2NSBMaTBEm9wO+D914eUVqOytk0bxdnhO8BiTOtp+pkujn6394h72nzzN8oHBmch7XjWLICWHIb5wmS47uj+Nsi2J8VpNsvx7H3dLBhD3ytucNzjuHPMQhybH40tpVTNF3fmHHFrzTo0aHX6pEA7Y8vjse8LZ/3E7OQaZCMWiTtNg6avuauqTty6BMFTraXt8dO1mhk4cMTVriVNrQL79btR3HMujX3fGNbUJ5XhQ/p8aNP067Og+3bA+++fIPj9srVN966L7dyr1X+jP5cYw2axXTOPGJwF06TVdF/Vq+JSDUuz7NEdc4C/CqaP3RHs8PBpC3QEdescAU3SWi11DtJb/VxfsG4XpylQDRypj4n36xh/ReB+/Xe7Ws2yelsPBv6dvJc+zynBvTygW1UzRS1aCo/ppddtNs6iEy2o2/Pp+0YpPa29JIvb9Mhes2C0x/tu9fkH6PPjux2ipdqCnmFV+tL6SVAW7H/Za2bs4q+mG+7Qy8ySsTekuq4ltRgHlojzxubYEJNxWhrTEtR0vU3TgIl2NrXo42Ka4LQ0WK87YjwYjB4sybZsMgsizsFnzJJRp58r3q9srL6HaHX14qvTa57c/YpZMLraiNPU7fn0YDbSLNvK4jaVfkPNgnF0qTgva6k+ZhiSloJPN9/tGYFSLWUdg7NQdv7ZLECgmh41UsPN/w0dfzZBZ4zq1iaopZJdC8V58jpxVj2sVVrdkRONQTy0xSxEafr0N4vx9A2UII9FS0BaSmrzlZRAq7W54rTowcevZlJG/UPdnq9aDzRm0VrWtqkaPDmwp2oiH1wsztPXivPCPeKsayzfCWEKhMFZEFqNO+CvWutO1bpawy1w26I7T0y7le4gOwNV8qja2VroiBdSGmQtj4hs1hBdqTvaquX62uZPUcEe36qRoYHh9g68zokjZkH/H+zNrUlSTc9ERyCkqzMpbqrg8wXDzEbWtqnCKajD43WW6Wu0rtCf0yJxntPv9tkHxdkT+AyUEwzOQtij1ayY/WqtBtviOLcl3UsSB/wdL36V4s7QfzMirI1PX7TlQZHVN2ko52kHy6QIGErffyCbxDH/T4sepILT1vUuot6WKYvEHT835DPqxji2XH9KN4jzZirjeCkTDM5CaHrSLKSh/XFxdpvlbmrEPfUmcS+6S2TM1VpiSlRN1h1rY8j8lsd32mVQn5CSXltP2Yn7xY5igGyGfja26bj5kWFlExboV52oV18DdKdW4/eYVcoJBmfeaTV9v7+6Xak7rFYJw24xe5wG0a4kMyZV1Ik7cZ64598VGcN46s26owVD1DeovjbYA6LVxJBJg53WwOt3VWn1/9EhR1FHc7UH13ibLkbckQSp0ifrbRaj2jJ471nbpgEYWnXSHHHPvTPSsXbaIpG6ceaPUfr72pOgSYeygsGZb7tXxfaG9r32nUHqiW7BjqODq8QJTtrRuEyc1bjdLc46X4BgRxsxXdyZuoMFa57RoKkLlm5eFgmMgHmHBndM84E+f+0778/tF2iLO/xK9/eaLX0C4ZJJ0Cm3OhBAGmZp1/6zuE1l63Lz3d4jzmuBgB02SdwZC/XxgSFd/s4lyjoGZ545u5abJWPwdLMQYtglZsHABMc7zLLhHH5M5ABuWpKMmZDC8CbVMMtBvaYFhsO06r6coFS7GxNomGXPLA1mswiDA22snfqeNoTsxBmEqls7wywZIScJOIcDPebxDAwMyu94Vj+vWQ5q8Y/RjCOb2/SIHmy973aFBmK8oRE1esBKVHWnXGBw5lPbai0t+jtldOcalagd0qfb6Yn6HGETHB+JU03r2Kyvb5Y9Wqrp6vGuFHdo4OwVjAMNdiC1bY5cC8hv2FWxk4/U6/NU63N30RDftlicTYG2Tlx6AiWplTfq68QJ+mMpnL8+5oLAL1jD7A0NoWAYb16m2yvw+icCnw2Cw79Q5X1LS3q+Dm7PjkfECVaFjweeP5vb1O9ocGyuwsxLzXq/X02GIwwoFGdHygut8j11Z/yd1aPV23jX09EShrNmafwSZFTVAnFnzxHnpWu0WmzugwotydZGdx7d8w+9GAmrqN5zRS6c7xuc3iTOszdrYPlfSwOwr5Z+qrXo1KHV4BYNfv+vBacjnhfnbBicP74meM0ghVJv9LEdvqCpvFrkgnmR97JHP3OjBkm7/j3ml6nvBUN2HA2ji3wD5t9cJM7OwEEEA8oHjo8stz6jnynBdsckGXU3inuGr3khZraqKK0G1+h2QJjh7KL2kOfrq59j1qXmjixt0zf0M/rbtf2fD0XVZj1YxAx/0u/+nJs5CD6Hgj95ygn9cScMzRAu/l1IaIbp0B3Sq96Z6rs/NB0t6U71hyYME3eG7uQVgdLiUf23eA5MSOLfwSt0554RJzRh6BxxT9a/BXVqGCIw/aEJ7Vol3mneX9uWSOktJjRB/34C/zawHSffqEHkf8+qU0Mm+tm90NS/D7mhexsvnq89UPWdcG3350MJH+MlUVWOhuaABSk8Xxa3qZ//8+E9xYSmhvfJejBgaOYUg7NEuEPnaT4kO+dbd+D+usPPvFUfb+7yq54m7vmLRQYFe2n9dMccoqWZ2VoyqjZ3xYNTKqdraPQJe0/6twHXicy6U9yGYFilSEux7rl3h8ympO8Xk4ycMdmsJ5H0+RDCuv1mBNpXE8nGNh18hYZ5siYdfV99tBYxfYm4Y5P9DihTrKqXGpQ+ju4RpylQqqvSQEDvfKpjuvE8u9eKc1hLNyi11ZypIdeggas7eaKZ4xM5flCrmpu1RGbWof9kcYfoDp7NQzfe89514rSZEhg+83D9zLbvNyr4fL3rxB2hAZjuuPhMtylqDa26LTGczb8t8b7q9X0l6vyjrGNwEhFZYlWdiMgSg5OIyBKDk4jIEoOTiMgSg5OIyBKDk4jIEoOTiMgSg5OIyBKDk4jIEoOTiMgSg5OIyBKDk4jIEoOTiMgSg5OIyBKDk4jIEoOTiMgSg5OIyBKDk4jIEoOTiMgSg5OIyBKDk4jIEoOTiMgSg5OIyBKDk4jIEoOTiMgSg5OIyBKDk4jIEoOTiMgSg5OIyBKDk4jIEoOTiMgSg5OIyBKDk4jIEoOTiMgSg5OIyBKDk4jIEoOTiMgSg5OIyBKDk4jIEoOTiMgSg5OIyBKDk4jIEoOTiMgSg5OIyBKDk4jIEoOTiMgSg5OIyBKDk4jIEoOTiMgSg5OIyBKDk4jIEoOTiMgSg5OIyBKDk4jIEoOTiMgSg5OIyBKDk4jIEoOTiMgSg5OIyBKDk4jIEoOTiMgSg5OIyBKDk4jIisj/B2u9CT+UeQ4YAAAAAElFTkSuQmCC)"
   ]
  },
  {
   "cell_type": "markdown",
   "id": "PfJYx2VnVGmD",
   "metadata": {
    "id": "PfJYx2VnVGmD"
   },
   "source": [
    "El presente análisis pretende mostrar las variables que más afectan al precio de la vivienda. Inicialmente se realizará una visión generalizada de los datos disponibles, después se realizará la limpieza de datos correspondiente para, finalmente, obtener un modelo de predicción lo más preciso posible."
   ]
  },
  {
   "cell_type": "markdown",
   "id": "-XcmWTGTU8BF",
   "metadata": {
    "id": "-XcmWTGTU8BF"
   },
   "source": [
    "Los datos utilizados proceden del siguiente link de Kaggle:  \n",
    "https://www.kaggle.com/datasets/mirbektoktogaraev/madrid-real-estate-market"
   ]
  },
  {
   "cell_type": "markdown",
   "id": "T0rQrZdmbDXr",
   "metadata": {
    "id": "T0rQrZdmbDXr"
   },
   "source": [
    "# 1- ANÁLISIS DE PRECIOS DE VIVIENDA"
   ]
  },
  {
   "cell_type": "markdown",
   "id": "NboquN4V6f2j",
   "metadata": {
    "id": "NboquN4V6f2j"
   },
   "source": [
    "## 1. PREPARACIÓN DEL ENTORNO"
   ]
  },
  {
   "cell_type": "markdown",
   "id": "efbc0dc4-45f2-44f3-afbd-2a9cdebc2f7c",
   "metadata": {
    "id": "efbc0dc4-45f2-44f3-afbd-2a9cdebc2f7c"
   },
   "source": [
    "### Importar librerias"
   ]
  },
  {
   "cell_type": "code",
   "execution_count": 1,
   "id": "8878463d-51db-481c-9cec-f774bb910ac9",
   "metadata": {
    "id": "8878463d-51db-481c-9cec-f774bb910ac9"
   },
   "outputs": [],
   "source": [
    "# Manipulación de datos\n",
    "import pandas as pd\n",
    "import numpy as np\n",
    "\n",
    "# Gráficas\n",
    "import matplotlib.pyplot as plt\n",
    "import seaborn as sns\n",
    "\n",
    "# Machine Learning\n",
    "import statsmodels.formula.api as smf\n",
    "\n",
    "from sklearn.tree import DecisionTreeClassifier\n",
    "from sklearn.metrics import silhouette_score\n",
    "from sklearn.linear_model import LinearRegression\n",
    "from sklearn.metrics import r2_score\n",
    "from sklearn.model_selection import train_test_split\n",
    "\n",
    "# Guardar modelo de predicción\n",
    "#from sklearn.externals import joblib"
   ]
  },
  {
   "cell_type": "markdown",
   "id": "f964f771-a72f-4192-8f26-1b25e2dd74c2",
   "metadata": {
    "id": "f964f771-a72f-4192-8f26-1b25e2dd74c2"
   },
   "source": [
    "### Cargar datos"
   ]
  },
  {
   "cell_type": "code",
   "execution_count": 2,
   "id": "267fdb12-fb74-4d41-9093-d40f2f03630a",
   "metadata": {
    "id": "267fdb12-fb74-4d41-9093-d40f2f03630a"
   },
   "outputs": [
    {
     "ename": "FileNotFoundError",
     "evalue": "[Errno 2] No such file or directory: '/content/houses_Madrid1.csv'",
     "output_type": "error",
     "traceback": [
      "\u001b[1;31m---------------------------------------------------------------------------\u001b[0m",
      "\u001b[1;31mFileNotFoundError\u001b[0m                         Traceback (most recent call last)",
      "Cell \u001b[1;32mIn[2], line 2\u001b[0m\n\u001b[0;32m      1\u001b[0m \u001b[38;5;66;03m# Carga de datos\u001b[39;00m\n\u001b[1;32m----> 2\u001b[0m data \u001b[38;5;241m=\u001b[39m pd\u001b[38;5;241m.\u001b[39mread_csv(\u001b[38;5;124m\"\u001b[39m\u001b[38;5;124m/content/houses_Madrid1.csv\u001b[39m\u001b[38;5;124m\"\u001b[39m)\n",
      "File \u001b[1;32m~\\anaconda3\\Lib\\site-packages\\pandas\\io\\parsers\\readers.py:1026\u001b[0m, in \u001b[0;36mread_csv\u001b[1;34m(filepath_or_buffer, sep, delimiter, header, names, index_col, usecols, dtype, engine, converters, true_values, false_values, skipinitialspace, skiprows, skipfooter, nrows, na_values, keep_default_na, na_filter, verbose, skip_blank_lines, parse_dates, infer_datetime_format, keep_date_col, date_parser, date_format, dayfirst, cache_dates, iterator, chunksize, compression, thousands, decimal, lineterminator, quotechar, quoting, doublequote, escapechar, comment, encoding, encoding_errors, dialect, on_bad_lines, delim_whitespace, low_memory, memory_map, float_precision, storage_options, dtype_backend)\u001b[0m\n\u001b[0;32m   1013\u001b[0m kwds_defaults \u001b[38;5;241m=\u001b[39m _refine_defaults_read(\n\u001b[0;32m   1014\u001b[0m     dialect,\n\u001b[0;32m   1015\u001b[0m     delimiter,\n\u001b[1;32m   (...)\u001b[0m\n\u001b[0;32m   1022\u001b[0m     dtype_backend\u001b[38;5;241m=\u001b[39mdtype_backend,\n\u001b[0;32m   1023\u001b[0m )\n\u001b[0;32m   1024\u001b[0m kwds\u001b[38;5;241m.\u001b[39mupdate(kwds_defaults)\n\u001b[1;32m-> 1026\u001b[0m \u001b[38;5;28;01mreturn\u001b[39;00m _read(filepath_or_buffer, kwds)\n",
      "File \u001b[1;32m~\\anaconda3\\Lib\\site-packages\\pandas\\io\\parsers\\readers.py:620\u001b[0m, in \u001b[0;36m_read\u001b[1;34m(filepath_or_buffer, kwds)\u001b[0m\n\u001b[0;32m    617\u001b[0m _validate_names(kwds\u001b[38;5;241m.\u001b[39mget(\u001b[38;5;124m\"\u001b[39m\u001b[38;5;124mnames\u001b[39m\u001b[38;5;124m\"\u001b[39m, \u001b[38;5;28;01mNone\u001b[39;00m))\n\u001b[0;32m    619\u001b[0m \u001b[38;5;66;03m# Create the parser.\u001b[39;00m\n\u001b[1;32m--> 620\u001b[0m parser \u001b[38;5;241m=\u001b[39m TextFileReader(filepath_or_buffer, \u001b[38;5;241m*\u001b[39m\u001b[38;5;241m*\u001b[39mkwds)\n\u001b[0;32m    622\u001b[0m \u001b[38;5;28;01mif\u001b[39;00m chunksize \u001b[38;5;129;01mor\u001b[39;00m iterator:\n\u001b[0;32m    623\u001b[0m     \u001b[38;5;28;01mreturn\u001b[39;00m parser\n",
      "File \u001b[1;32m~\\anaconda3\\Lib\\site-packages\\pandas\\io\\parsers\\readers.py:1620\u001b[0m, in \u001b[0;36mTextFileReader.__init__\u001b[1;34m(self, f, engine, **kwds)\u001b[0m\n\u001b[0;32m   1617\u001b[0m     \u001b[38;5;28mself\u001b[39m\u001b[38;5;241m.\u001b[39moptions[\u001b[38;5;124m\"\u001b[39m\u001b[38;5;124mhas_index_names\u001b[39m\u001b[38;5;124m\"\u001b[39m] \u001b[38;5;241m=\u001b[39m kwds[\u001b[38;5;124m\"\u001b[39m\u001b[38;5;124mhas_index_names\u001b[39m\u001b[38;5;124m\"\u001b[39m]\n\u001b[0;32m   1619\u001b[0m \u001b[38;5;28mself\u001b[39m\u001b[38;5;241m.\u001b[39mhandles: IOHandles \u001b[38;5;241m|\u001b[39m \u001b[38;5;28;01mNone\u001b[39;00m \u001b[38;5;241m=\u001b[39m \u001b[38;5;28;01mNone\u001b[39;00m\n\u001b[1;32m-> 1620\u001b[0m \u001b[38;5;28mself\u001b[39m\u001b[38;5;241m.\u001b[39m_engine \u001b[38;5;241m=\u001b[39m \u001b[38;5;28mself\u001b[39m\u001b[38;5;241m.\u001b[39m_make_engine(f, \u001b[38;5;28mself\u001b[39m\u001b[38;5;241m.\u001b[39mengine)\n",
      "File \u001b[1;32m~\\anaconda3\\Lib\\site-packages\\pandas\\io\\parsers\\readers.py:1880\u001b[0m, in \u001b[0;36mTextFileReader._make_engine\u001b[1;34m(self, f, engine)\u001b[0m\n\u001b[0;32m   1878\u001b[0m     \u001b[38;5;28;01mif\u001b[39;00m \u001b[38;5;124m\"\u001b[39m\u001b[38;5;124mb\u001b[39m\u001b[38;5;124m\"\u001b[39m \u001b[38;5;129;01mnot\u001b[39;00m \u001b[38;5;129;01min\u001b[39;00m mode:\n\u001b[0;32m   1879\u001b[0m         mode \u001b[38;5;241m+\u001b[39m\u001b[38;5;241m=\u001b[39m \u001b[38;5;124m\"\u001b[39m\u001b[38;5;124mb\u001b[39m\u001b[38;5;124m\"\u001b[39m\n\u001b[1;32m-> 1880\u001b[0m \u001b[38;5;28mself\u001b[39m\u001b[38;5;241m.\u001b[39mhandles \u001b[38;5;241m=\u001b[39m get_handle(\n\u001b[0;32m   1881\u001b[0m     f,\n\u001b[0;32m   1882\u001b[0m     mode,\n\u001b[0;32m   1883\u001b[0m     encoding\u001b[38;5;241m=\u001b[39m\u001b[38;5;28mself\u001b[39m\u001b[38;5;241m.\u001b[39moptions\u001b[38;5;241m.\u001b[39mget(\u001b[38;5;124m\"\u001b[39m\u001b[38;5;124mencoding\u001b[39m\u001b[38;5;124m\"\u001b[39m, \u001b[38;5;28;01mNone\u001b[39;00m),\n\u001b[0;32m   1884\u001b[0m     compression\u001b[38;5;241m=\u001b[39m\u001b[38;5;28mself\u001b[39m\u001b[38;5;241m.\u001b[39moptions\u001b[38;5;241m.\u001b[39mget(\u001b[38;5;124m\"\u001b[39m\u001b[38;5;124mcompression\u001b[39m\u001b[38;5;124m\"\u001b[39m, \u001b[38;5;28;01mNone\u001b[39;00m),\n\u001b[0;32m   1885\u001b[0m     memory_map\u001b[38;5;241m=\u001b[39m\u001b[38;5;28mself\u001b[39m\u001b[38;5;241m.\u001b[39moptions\u001b[38;5;241m.\u001b[39mget(\u001b[38;5;124m\"\u001b[39m\u001b[38;5;124mmemory_map\u001b[39m\u001b[38;5;124m\"\u001b[39m, \u001b[38;5;28;01mFalse\u001b[39;00m),\n\u001b[0;32m   1886\u001b[0m     is_text\u001b[38;5;241m=\u001b[39mis_text,\n\u001b[0;32m   1887\u001b[0m     errors\u001b[38;5;241m=\u001b[39m\u001b[38;5;28mself\u001b[39m\u001b[38;5;241m.\u001b[39moptions\u001b[38;5;241m.\u001b[39mget(\u001b[38;5;124m\"\u001b[39m\u001b[38;5;124mencoding_errors\u001b[39m\u001b[38;5;124m\"\u001b[39m, \u001b[38;5;124m\"\u001b[39m\u001b[38;5;124mstrict\u001b[39m\u001b[38;5;124m\"\u001b[39m),\n\u001b[0;32m   1888\u001b[0m     storage_options\u001b[38;5;241m=\u001b[39m\u001b[38;5;28mself\u001b[39m\u001b[38;5;241m.\u001b[39moptions\u001b[38;5;241m.\u001b[39mget(\u001b[38;5;124m\"\u001b[39m\u001b[38;5;124mstorage_options\u001b[39m\u001b[38;5;124m\"\u001b[39m, \u001b[38;5;28;01mNone\u001b[39;00m),\n\u001b[0;32m   1889\u001b[0m )\n\u001b[0;32m   1890\u001b[0m \u001b[38;5;28;01massert\u001b[39;00m \u001b[38;5;28mself\u001b[39m\u001b[38;5;241m.\u001b[39mhandles \u001b[38;5;129;01mis\u001b[39;00m \u001b[38;5;129;01mnot\u001b[39;00m \u001b[38;5;28;01mNone\u001b[39;00m\n\u001b[0;32m   1891\u001b[0m f \u001b[38;5;241m=\u001b[39m \u001b[38;5;28mself\u001b[39m\u001b[38;5;241m.\u001b[39mhandles\u001b[38;5;241m.\u001b[39mhandle\n",
      "File \u001b[1;32m~\\anaconda3\\Lib\\site-packages\\pandas\\io\\common.py:873\u001b[0m, in \u001b[0;36mget_handle\u001b[1;34m(path_or_buf, mode, encoding, compression, memory_map, is_text, errors, storage_options)\u001b[0m\n\u001b[0;32m    868\u001b[0m \u001b[38;5;28;01melif\u001b[39;00m \u001b[38;5;28misinstance\u001b[39m(handle, \u001b[38;5;28mstr\u001b[39m):\n\u001b[0;32m    869\u001b[0m     \u001b[38;5;66;03m# Check whether the filename is to be opened in binary mode.\u001b[39;00m\n\u001b[0;32m    870\u001b[0m     \u001b[38;5;66;03m# Binary mode does not support 'encoding' and 'newline'.\u001b[39;00m\n\u001b[0;32m    871\u001b[0m     \u001b[38;5;28;01mif\u001b[39;00m ioargs\u001b[38;5;241m.\u001b[39mencoding \u001b[38;5;129;01mand\u001b[39;00m \u001b[38;5;124m\"\u001b[39m\u001b[38;5;124mb\u001b[39m\u001b[38;5;124m\"\u001b[39m \u001b[38;5;129;01mnot\u001b[39;00m \u001b[38;5;129;01min\u001b[39;00m ioargs\u001b[38;5;241m.\u001b[39mmode:\n\u001b[0;32m    872\u001b[0m         \u001b[38;5;66;03m# Encoding\u001b[39;00m\n\u001b[1;32m--> 873\u001b[0m         handle \u001b[38;5;241m=\u001b[39m \u001b[38;5;28mopen\u001b[39m(\n\u001b[0;32m    874\u001b[0m             handle,\n\u001b[0;32m    875\u001b[0m             ioargs\u001b[38;5;241m.\u001b[39mmode,\n\u001b[0;32m    876\u001b[0m             encoding\u001b[38;5;241m=\u001b[39mioargs\u001b[38;5;241m.\u001b[39mencoding,\n\u001b[0;32m    877\u001b[0m             errors\u001b[38;5;241m=\u001b[39merrors,\n\u001b[0;32m    878\u001b[0m             newline\u001b[38;5;241m=\u001b[39m\u001b[38;5;124m\"\u001b[39m\u001b[38;5;124m\"\u001b[39m,\n\u001b[0;32m    879\u001b[0m         )\n\u001b[0;32m    880\u001b[0m     \u001b[38;5;28;01melse\u001b[39;00m:\n\u001b[0;32m    881\u001b[0m         \u001b[38;5;66;03m# Binary mode\u001b[39;00m\n\u001b[0;32m    882\u001b[0m         handle \u001b[38;5;241m=\u001b[39m \u001b[38;5;28mopen\u001b[39m(handle, ioargs\u001b[38;5;241m.\u001b[39mmode)\n",
      "\u001b[1;31mFileNotFoundError\u001b[0m: [Errno 2] No such file or directory: '/content/houses_Madrid1.csv'"
     ]
    }
   ],
   "source": [
    "# Carga de datos\n",
    "data = pd.read_csv(\"/content/houses_Madrid1.csv\")"
   ]
  },
  {
   "cell_type": "markdown",
   "id": "KF4mQ3XIeQrM",
   "metadata": {
    "id": "KF4mQ3XIeQrM"
   },
   "source": [
    "### Visualización de datos principales"
   ]
  },
  {
   "cell_type": "code",
   "execution_count": null,
   "id": "mWubdtRseQHA",
   "metadata": {
    "colab": {
     "base_uri": "https://localhost:8080/"
    },
    "id": "mWubdtRseQHA",
    "outputId": "7254ffd1-c546-466c-f2d4-9520dfbbe7f7"
   },
   "outputs": [],
   "source": [
    "# Tamaño de datos\n",
    "data.shape"
   ]
  },
  {
   "cell_type": "code",
   "execution_count": null,
   "id": "a9f844d6-03fc-438d-8c58-a762e93032ea",
   "metadata": {
    "colab": {
     "base_uri": "https://localhost:8080/",
     "height": 637
    },
    "id": "a9f844d6-03fc-438d-8c58-a762e93032ea",
    "outputId": "b02a7310-a656-401c-b462-c2f8974e87ee",
    "scrolled": true
   },
   "outputs": [],
   "source": [
    "# Primeros resultados\n",
    "data.head()"
   ]
  },
  {
   "cell_type": "code",
   "execution_count": null,
   "id": "0oFGqQGrerb-",
   "metadata": {
    "colab": {
     "base_uri": "https://localhost:8080/",
     "height": 706
    },
    "id": "0oFGqQGrerb-",
    "outputId": "b2cb3e80-db04-4117-f41a-3ad339fbc1b5"
   },
   "outputs": [],
   "source": [
    "# Últimos resultados\n",
    "data.tail()"
   ]
  },
  {
   "cell_type": "code",
   "execution_count": null,
   "id": "782d9b9b-985d-488e-a0f0-aacc919f7e4d",
   "metadata": {
    "colab": {
     "base_uri": "https://localhost:8080/"
    },
    "id": "782d9b9b-985d-488e-a0f0-aacc919f7e4d",
    "outputId": "a901f901-5b9d-42c4-f6c3-5074b8cb8bf8"
   },
   "outputs": [],
   "source": [
    "# Columnas, nulos y tipo de datos\n",
    "data.info()"
   ]
  },
  {
   "cell_type": "code",
   "execution_count": null,
   "id": "ZxJ5QVJAe_qL",
   "metadata": {
    "colab": {
     "base_uri": "https://localhost:8080/",
     "height": 349
    },
    "id": "ZxJ5QVJAe_qL",
    "outputId": "6a94e3f0-92e8-45a5-fa7d-fd777d9f1457"
   },
   "outputs": [],
   "source": [
    "# Valores estadísticos\n",
    "data.describe()"
   ]
  },
  {
   "cell_type": "markdown",
   "id": "b7b412a8-36e0-413f-8963-d69ca5381205",
   "metadata": {
    "id": "b7b412a8-36e0-413f-8963-d69ca5381205"
   },
   "source": [
    "## 2. LIMPIEZA DE LOS DATOS"
   ]
  },
  {
   "cell_type": "markdown",
   "id": "8acc7659-f790-4efc-81f7-ca40880ace7d",
   "metadata": {
    "id": "8acc7659-f790-4efc-81f7-ca40880ace7d"
   },
   "source": [
    "### 1. Comprobar duplicados"
   ]
  },
  {
   "cell_type": "code",
   "execution_count": null,
   "id": "452a5d90-e572-48d8-81dd-e70f3c9f20ab",
   "metadata": {
    "colab": {
     "base_uri": "https://localhost:8080/"
    },
    "id": "452a5d90-e572-48d8-81dd-e70f3c9f20ab",
    "outputId": "103c71e0-5983-47ba-9e7e-79c587bdac3a",
    "scrolled": true
   },
   "outputs": [],
   "source": [
    "# Comprobar si hay valores duplicados\n",
    "duplicados_columnas = data.duplicated(subset='id')\n",
    "duplicados_columnas"
   ]
  },
  {
   "cell_type": "markdown",
   "id": "hO2XHxyXkgvW",
   "metadata": {
    "id": "hO2XHxyXkgvW"
   },
   "source": [
    "En el dataset no hay filas duplicadas, por lo que todos los registros son únicos."
   ]
  },
  {
   "cell_type": "markdown",
   "id": "sqwSYhF_il8X",
   "metadata": {
    "id": "sqwSYhF_il8X"
   },
   "source": [
    "### 2. Comprobar nulos"
   ]
  },
  {
   "cell_type": "code",
   "execution_count": null,
   "id": "nSi9TPL0ikxq",
   "metadata": {
    "colab": {
     "base_uri": "https://localhost:8080/"
    },
    "id": "nSi9TPL0ikxq",
    "outputId": "8d2979bc-c81e-4e53-ea9a-30762910865f"
   },
   "outputs": [],
   "source": [
    "# Comprobar porcentaje de nulos por columna\n",
    "columnas_con_nulos = [i for i in data.columns if data[i].isnull().sum() > 0]\n",
    "for col in columnas_con_nulos:\n",
    "    print(col, (data[col].isnull().sum() / duplicados_columnas.count() * 100).round(2), '% de nulos')"
   ]
  },
  {
   "cell_type": "markdown",
   "id": "5kw-UnYNkogc",
   "metadata": {
    "id": "5kw-UnYNkogc"
   },
   "source": [
    "Como vemos, tenemos columnas con varios registros faltantes. En el siguiente apartado trataremos éstas columnas."
   ]
  },
  {
   "cell_type": "markdown",
   "id": "c246f3e5-054b-4a63-bf47-500c4d6f32d9",
   "metadata": {
    "id": "c246f3e5-054b-4a63-bf47-500c4d6f32d9"
   },
   "source": [
    "### 3. Tratamiento de columnas con nulos."
   ]
  },
  {
   "cell_type": "markdown",
   "id": "yQMlVFWQmYgB",
   "metadata": {
    "id": "yQMlVFWQmYgB"
   },
   "source": [
    "Para la correción de las columnas, vamos a seguir los siguientes criterios:"
   ]
  },
  {
   "cell_type": "markdown",
   "id": "Uyo00HUPlZqa",
   "metadata": {
    "id": "Uyo00HUPlZqa"
   },
   "source": [
    "*** Columnas con todo nulos:** Eliminación del dataset ya que no aportan nada de información.  \n",
    "*** Columnas irrelevantes:** Eliminación del dataset por aportar información redundante o poco relevante para el análisis.  \n",
    "*** Columnas con datos faltantes:** Se completarán los datos faltantes con diferentes criterios que se explicarán en cada una de las variables."
   ]
  },
  {
   "cell_type": "markdown",
   "id": "qZYJklChlQ8U",
   "metadata": {
    "id": "qZYJklChlQ8U"
   },
   "source": [
    "### Eliminar columnas con el 100% de nulos:"
   ]
  },
  {
   "cell_type": "code",
   "execution_count": null,
   "id": "64599e02-5a4b-4504-ae44-d178a2d6eb76",
   "metadata": {
    "id": "64599e02-5a4b-4504-ae44-d178a2d6eb76",
    "scrolled": true
   },
   "outputs": [],
   "source": [
    "# Eliminar columnas sin datos\n",
    "data = data.drop(\n",
    "    columns = ['sq_mt_useful','n_floors','sq_mt_allotment','latitude',\n",
    "               'longitude','raw_address', 'street_number', 'street_name',\n",
    "               'portal', 'door','rent_price_by_area','house_type_id',\n",
    "               'has_central_heating','has_individual_heating','are_pets_allowed',\n",
    "               'has_fitted_wardrobes','has_garden','is_furnished',\n",
    "               'is_kitchen_equipped','has_private_parking','has_public_parking',\n",
    "               'is_parking_included_in_price', 'parking_price','is_orientation_north',\n",
    "               'is_orientation_west','is_orientation_south','is_orientation_east']\n",
    ")"
   ]
  },
  {
   "cell_type": "markdown",
   "id": "VrlSSbR7mwJD",
   "metadata": {
    "id": "VrlSSbR7mwJD"
   },
   "source": [
    "### Eliminar columnas irrelevantes:"
   ]
  },
  {
   "cell_type": "code",
   "execution_count": null,
   "id": "V8p4Oa7Zm6FX",
   "metadata": {
    "id": "V8p4Oa7Zm6FX"
   },
   "outputs": [],
   "source": [
    "# Eliminar colummnas irrelevantes\n",
    "data = data.drop(\n",
    "    columns = ['Unnamed: 0','id','is_exact_address_hidden',\n",
    "               'is_floor_under','neighborhood_id','operation',\n",
    "               'rent_price','is_rent_price_known', 'buy_price_by_area',\n",
    "               'is_buy_price_known','is_exterior','energy_certificate']\n",
    "    )"
   ]
  },
  {
   "cell_type": "markdown",
   "id": "NDHwkA89nEn9",
   "metadata": {
    "id": "NDHwkA89nEn9"
   },
   "source": [
    "### Tratar columnas con datos faltantes"
   ]
  },
  {
   "cell_type": "markdown",
   "id": "RODNKIuan0dR",
   "metadata": {
    "id": "RODNKIuan0dR"
   },
   "source": [
    "En este apartado vamos a completar y ajustar las columnas que consideramos más relevantes para el análisis, que son las siguientes 18:"
   ]
  },
  {
   "cell_type": "code",
   "execution_count": null,
   "id": "tvMcHX0ioAHJ",
   "metadata": {
    "colab": {
     "base_uri": "https://localhost:8080/"
    },
    "id": "tvMcHX0ioAHJ",
    "outputId": "1e2fa754-b2a4-4852-da30-1fd63636d8d6"
   },
   "outputs": [],
   "source": [
    "# Visualizar columnas actuales\n",
    "data.columns"
   ]
  },
  {
   "cell_type": "markdown",
   "id": "e075a82c-a5bc-40d8-a40d-d3502cf3ee76",
   "metadata": {
    "id": "e075a82c-a5bc-40d8-a40d-d3502cf3ee76"
   },
   "source": [
    "#### Número de baños (n_bathrooms)"
   ]
  },
  {
   "cell_type": "markdown",
   "id": "MjLvMYSEoK_q",
   "metadata": {
    "id": "MjLvMYSEoK_q"
   },
   "source": [
    "Tras analizar los datos de esta columna, llegamos a la conclusión de que las viviendas siguen el criterio de tener los mismos baños que habitaciones menos 1, salvo que sólo tengan una habitación o ninguna (caso de los estudios), tienen un baño igualmente. Es por eso que seguiremos este criterio para completar esta columna."
   ]
  },
  {
   "cell_type": "code",
   "execution_count": null,
   "id": "50c7a1be-a534-4afc-9317-d4dbba9c32c2",
   "metadata": {
    "colab": {
     "base_uri": "https://localhost:8080/"
    },
    "id": "50c7a1be-a534-4afc-9317-d4dbba9c32c2",
    "outputId": "af0fbe9e-3135-4380-d10d-7d5fcbde862a"
   },
   "outputs": [],
   "source": [
    "# Valores actuales de los baños\n",
    "data[\"n_bathrooms\"].unique()"
   ]
  },
  {
   "cell_type": "code",
   "execution_count": null,
   "id": "e7dc2f9b-9c09-43c2-b1eb-a3623b9cb4c0",
   "metadata": {
    "colab": {
     "base_uri": "https://localhost:8080/",
     "height": 472
    },
    "id": "e7dc2f9b-9c09-43c2-b1eb-a3623b9cb4c0",
    "outputId": "3807dde2-cc4d-4421-90dc-95ea73385157"
   },
   "outputs": [],
   "source": [
    "# Graficamos para visualizar mejor la relación entre baños y habitaciones\n",
    "sns.barplot(data = data, x= 'n_bathrooms', y= 'n_rooms', color=\"#FFBD59\")\n",
    "plt.title('Distribución de baños en funcion de habitaciones')\n",
    "plt.xlabel('n_bathrooms')\n",
    "plt.ylabel('n_rooms')\n",
    "plt.show()"
   ]
  },
  {
   "cell_type": "code",
   "execution_count": null,
   "id": "06edba47-0f08-4b9b-a67e-6c2b5412cfc5",
   "metadata": {
    "id": "06edba47-0f08-4b9b-a67e-6c2b5412cfc5"
   },
   "outputs": [],
   "source": [
    "# Función para rellenar datos según el criterio indicado\n",
    "def fill_bathrooms(row):\n",
    "    if pd.isnull(row['n_bathrooms']):\n",
    "        if (row['n_rooms'] == 1) | (row['n_rooms'] == 0):\n",
    "            return 1\n",
    "        else:\n",
    "            return row['n_rooms'] - 1\n",
    "    return row['n_bathrooms']"
   ]
  },
  {
   "cell_type": "code",
   "execution_count": null,
   "id": "aefc38c4-54ee-4f87-8ff2-cf8442394b7f",
   "metadata": {
    "id": "aefc38c4-54ee-4f87-8ff2-cf8442394b7f"
   },
   "outputs": [],
   "source": [
    "# Aplicar función a los datos\n",
    "data['n_bathrooms'] = data.apply(fill_bathrooms, axis=1)"
   ]
  },
  {
   "cell_type": "code",
   "execution_count": null,
   "id": "9EYBZ0dh2cEt",
   "metadata": {
    "id": "9EYBZ0dh2cEt"
   },
   "outputs": [],
   "source": [
    "# Convertir valores a entero\n",
    "data['n_bathrooms'] = data['n_bathrooms'].round().astype(int)"
   ]
  },
  {
   "cell_type": "code",
   "execution_count": null,
   "id": "a6530aa1-28e9-46a9-82f4-5835fe72eb69",
   "metadata": {
    "colab": {
     "base_uri": "https://localhost:8080/"
    },
    "id": "a6530aa1-28e9-46a9-82f4-5835fe72eb69",
    "outputId": "469874a3-39f9-4c91-c2d5-b33afa890571"
   },
   "outputs": [],
   "source": [
    "# Comprobar los valores actuales\n",
    "data['n_bathrooms'].unique()"
   ]
  },
  {
   "cell_type": "markdown",
   "id": "7112dd25-ec7c-422a-a74a-000d380488c2",
   "metadata": {
    "id": "7112dd25-ec7c-422a-a74a-000d380488c2"
   },
   "source": [
    "#### Altura de pisos (floor)"
   ]
  },
  {
   "cell_type": "markdown",
   "id": "wGgcf9TbpOb6",
   "metadata": {
    "id": "wGgcf9TbpOb6"
   },
   "source": [
    "Esta variable tiene múltiples valores, por lo que trataremos de englobar todos ellos en 3 tipos (0, 1, 2) pra facilitar el tratamiento del mismo."
   ]
  },
  {
   "cell_type": "code",
   "execution_count": null,
   "id": "7e0d1433-5021-4cef-9530-79974a5902b4",
   "metadata": {
    "colab": {
     "base_uri": "https://localhost:8080/"
    },
    "id": "7e0d1433-5021-4cef-9530-79974a5902b4",
    "outputId": "816fef15-3ef8-4435-c70c-f07bc2ae31e7"
   },
   "outputs": [],
   "source": [
    "# Valores actuales de la altura de los pisos\n",
    "data['floor'].unique()"
   ]
  },
  {
   "cell_type": "code",
   "execution_count": null,
   "id": "8cab76aa-9b62-486f-9bcf-f04ab4ed0122",
   "metadata": {
    "id": "8cab76aa-9b62-486f-9bcf-f04ab4ed0122"
   },
   "outputs": [],
   "source": [
    "# Mapeo para convertir los valores en los indicados anteriormente\n",
    "data[\"floor\"] = data[\"floor\"].map(\n",
    "        {\n",
    "        'Bajo': 0,\n",
    "        'Entreplanta':0,\n",
    "        'Entreplanta exterior': 0,\n",
    "        'Entreplanta interior': 0,\n",
    "        'Semi-sótano': 0,\n",
    "        'Semi-sótano exterior': 0,\n",
    "        'Semi-sótano interior': 0,\n",
    "        'Sótano': 0,\n",
    "        'Sótano exterior': 0,\n",
    "        'Sótano interior': 0,\n",
    "        '3': 1,\n",
    "        '4': 2,\n",
    "        '1': 1,\n",
    "        '2': 1,\n",
    "        '7':2,\n",
    "        '6': 2,\n",
    "        '5': 2,\n",
    "        '9':2,\n",
    "        '8': 2,\n",
    "        'nan' : 'NaN'\n",
    "    }\n",
    ")"
   ]
  },
  {
   "cell_type": "code",
   "execution_count": null,
   "id": "0b2c8afb-5533-48cc-aad3-92aa12464c1b",
   "metadata": {
    "colab": {
     "base_uri": "https://localhost:8080/",
     "height": 472
    },
    "id": "0b2c8afb-5533-48cc-aad3-92aa12464c1b",
    "outputId": "d52d4f55-c4be-4dce-be7f-1442ab59a057"
   },
   "outputs": [],
   "source": [
    "# Visualizamos los datos actuales\n",
    "sns.countplot(data = data, x= 'floor', color=\"#FFBD59\")\n",
    "plt.title('Distribución de la Altura de los pisos')\n",
    "plt.xlabel('Altura de piso')\n",
    "plt.ylabel('Cantidad')\n",
    "plt.show()"
   ]
  },
  {
   "cell_type": "markdown",
   "id": "5JWACDk4qERZ",
   "metadata": {
    "id": "5JWACDk4qERZ"
   },
   "source": [
    "Tras haber realizado esta conversión, ahora toca rellenar los valores faltantes. En esta variable, el criterio a utilizar será el de la mediana, ya que consideramos que es la mejor forma que no distorsione los datos con respecto a los que sí disponemos."
   ]
  },
  {
   "cell_type": "code",
   "execution_count": null,
   "id": "a77a70fc-d569-4d4a-8fca-597f35fac958",
   "metadata": {
    "id": "a77a70fc-d569-4d4a-8fca-597f35fac958"
   },
   "outputs": [],
   "source": [
    "# Calcular mediana\n",
    "median_floor_by_subtitle = data.groupby('subtitle')['floor'].median()"
   ]
  },
  {
   "cell_type": "code",
   "execution_count": null,
   "id": "16e15eec-bfbc-4afd-bbb2-cf15654e7d1e",
   "metadata": {
    "id": "16e15eec-bfbc-4afd-bbb2-cf15654e7d1e"
   },
   "outputs": [],
   "source": [
    "# Función para rellenar los valores faltantes con la mediana\n",
    "def fill_na_with_median(row):\n",
    "    if pd.isna(row['floor']):\n",
    "        return median_floor_by_subtitle[row['subtitle']]\n",
    "    else:\n",
    "        return row['floor']"
   ]
  },
  {
   "cell_type": "code",
   "execution_count": null,
   "id": "DfXivzc8qa9O",
   "metadata": {
    "id": "DfXivzc8qa9O"
   },
   "outputs": [],
   "source": [
    "# Aplicar la función\n",
    "data['floor'] = data.apply(fill_na_with_median, axis=1)"
   ]
  },
  {
   "cell_type": "code",
   "execution_count": null,
   "id": "OHfrwVI4XQvx",
   "metadata": {
    "id": "OHfrwVI4XQvx"
   },
   "outputs": [],
   "source": [
    "# Convertir valor a entero\n",
    "data['floor'] = data['floor'].round().astype(int)"
   ]
  },
  {
   "cell_type": "markdown",
   "id": "d1d91c8a-0f64-4df2-b1f6-fc91857f0358",
   "metadata": {
    "id": "d1d91c8a-0f64-4df2-b1f6-fc91857f0358"
   },
   "source": [
    "#### Ascensor (has_lift)"
   ]
  },
  {
   "cell_type": "markdown",
   "id": "A7WZlip9q0K8",
   "metadata": {
    "id": "A7WZlip9q0K8"
   },
   "source": [
    "Esta variable vamos a completarla según la media de cada zona, para tratar de representar los mejor posible los datos reales."
   ]
  },
  {
   "cell_type": "code",
   "execution_count": null,
   "id": "eb569e68-377f-4e71-932e-74655af0d6c2",
   "metadata": {
    "colab": {
     "base_uri": "https://localhost:8080/"
    },
    "id": "eb569e68-377f-4e71-932e-74655af0d6c2",
    "outputId": "97d71749-6e31-4962-8e18-42ef9beb3821"
   },
   "outputs": [],
   "source": [
    "# Comprobar los valores únicos\n",
    "data[\"has_lift\"].unique()"
   ]
  },
  {
   "cell_type": "code",
   "execution_count": null,
   "id": "9285b3c9-c6e5-4f2a-bd6b-b283a6e338de",
   "metadata": {
    "id": "9285b3c9-c6e5-4f2a-bd6b-b283a6e338de"
   },
   "outputs": [],
   "source": [
    "# Calcular la media agrupada por zona\n",
    "proporcion_con_ascensor = data.groupby(\n",
    "    'subtitle')['has_lift'].mean()\n",
    "\n",
    "# Filtrar el valor para completar\n",
    "zona_a_valor = proporcion_con_ascensor > 0.5"
   ]
  },
  {
   "cell_type": "code",
   "execution_count": null,
   "id": "iECccLqVrS6p",
   "metadata": {
    "id": "iECccLqVrS6p"
   },
   "outputs": [],
   "source": [
    "# Aplicar función para completar valores\n",
    "data['has_lift'] = data.apply(\n",
    "    lambda row: zona_a_valor[row['subtitle']]\n",
    "        if pd.isna(row['has_lift'])\n",
    "        else row['has_lift'], axis=1\n",
    ")"
   ]
  },
  {
   "cell_type": "code",
   "execution_count": null,
   "id": "ZiZRackRKEzT",
   "metadata": {
    "colab": {
     "base_uri": "https://localhost:8080/",
     "height": 472
    },
    "id": "ZiZRackRKEzT",
    "outputId": "a93c1ba8-44f3-4879-8f94-6c9574ea077c"
   },
   "outputs": [],
   "source": [
    "# Visualizar los datos\n",
    "sns.countplot(data = data, x = 'has_lift', color=\"#FFBD59\")\n",
    "plt.title('Distribución del Ascensor')\n",
    "plt.xlabel('Ascensor')\n",
    "plt.ylabel('Cantidad')\n",
    "plt.show()"
   ]
  },
  {
   "cell_type": "markdown",
   "id": "926830d4-3fe3-4a86-8777-d5b70c0c0c9c",
   "metadata": {
    "id": "926830d4-3fe3-4a86-8777-d5b70c0c0c9c"
   },
   "source": [
    "#### Variables secundarias: Tiene piscina (has_pool), tiene terraza (has_terrace), tiene balcón (has_balcony), tiene trastero (has_storage_room), accesibilidad (is_accessible), zons verdes (has_green_zones) y aire acondicionado (has_ac)"
   ]
  },
  {
   "cell_type": "markdown",
   "id": "eDO07JfYsKAO",
   "metadata": {
    "id": "eDO07JfYsKAO"
   },
   "source": [
    "Estas columnas vienen únicamente con el valor de true y nan, por lo que asumimos que los datos faltantes corresponden a false, esto es, que no lo incluyen."
   ]
  },
  {
   "cell_type": "code",
   "execution_count": null,
   "id": "13109d44-3c1b-4ce0-ad85-2ed7350e682c",
   "metadata": {
    "colab": {
     "base_uri": "https://localhost:8080/"
    },
    "id": "13109d44-3c1b-4ce0-ad85-2ed7350e682c",
    "outputId": "52a5a87e-fb2d-4e52-d03a-19b7e07cc17f"
   },
   "outputs": [],
   "source": [
    "# Comprobación de datos actuales\n",
    "data[\"has_pool\"].unique()"
   ]
  },
  {
   "cell_type": "code",
   "execution_count": null,
   "id": "fc6ddc86-062c-4b5a-ac0c-e0aa3adf716a",
   "metadata": {
    "id": "fc6ddc86-062c-4b5a-ac0c-e0aa3adf716a"
   },
   "outputs": [],
   "source": [
    "# Completar datos faltantes con false\n",
    "data[['has_pool', 'has_terrace', 'has_balcony', 'has_storage_room', 'is_accessible', 'has_green_zones', 'has_ac']] = data[\n",
    "['has_pool', 'has_terrace', 'has_balcony', 'has_storage_room', 'is_accessible', 'has_green_zones', 'has_ac']].fillna(False)"
   ]
  },
  {
   "cell_type": "markdown",
   "id": "0c075c4e-7545-47a3-9293-fc1a2fb4afe9",
   "metadata": {
    "id": "0c075c4e-7545-47a3-9293-fc1a2fb4afe9"
   },
   "source": [
    "#### Año de construcción (built_year)"
   ]
  },
  {
   "cell_type": "markdown",
   "id": "kVeYsEMQtAxj",
   "metadata": {
    "id": "kVeYsEMQtAxj"
   },
   "source": [
    "El criterio a utilizar en esta variable será el de la moda."
   ]
  },
  {
   "cell_type": "code",
   "execution_count": null,
   "id": "174060db-f68a-4384-ad7f-1cbcef3169c5",
   "metadata": {
    "id": "174060db-f68a-4384-ad7f-1cbcef3169c5"
   },
   "outputs": [],
   "source": [
    "# Calcular moda\n",
    "moda_año_construccion = data['built_year'].mode()[0]"
   ]
  },
  {
   "cell_type": "code",
   "execution_count": null,
   "id": "f5a709ec-eef8-4947-ab93-2c840d0381af",
   "metadata": {
    "id": "f5a709ec-eef8-4947-ab93-2c840d0381af"
   },
   "outputs": [],
   "source": [
    "# Rellenar los datos faltantes con la moda\n",
    "data['built_year'].fillna(moda_año_construccion, inplace=True)"
   ]
  },
  {
   "cell_type": "code",
   "execution_count": null,
   "id": "-en8SPyz0Bgd",
   "metadata": {
    "id": "-en8SPyz0Bgd"
   },
   "outputs": [],
   "source": [
    "# Convertir valor a entero\n",
    "data['built_year'] = data['built_year'].round().astype(int)"
   ]
  },
  {
   "cell_type": "code",
   "execution_count": null,
   "id": "6a31f2d2-2136-42ef-a793-8f3f709dc7f4",
   "metadata": {
    "colab": {
     "base_uri": "https://localhost:8080/",
     "height": 472
    },
    "id": "6a31f2d2-2136-42ef-a793-8f3f709dc7f4",
    "outputId": "7ec1f096-9531-4b3a-fec1-7bc7ac8bfa4e"
   },
   "outputs": [],
   "source": [
    "# Visualizar los datos\n",
    "sns.histplot(data=data, x='built_year', bins=30, kde=True, color=\"#FFBD59\")\n",
    "plt.title('Distribución de Años de Construcción')\n",
    "plt.xlabel('Año de Construcción')\n",
    "plt.ylabel('Frecuencia')\n",
    "plt.show()"
   ]
  },
  {
   "cell_type": "markdown",
   "id": "a06122be-2e1e-4dc7-a07a-bf494fec07c2",
   "metadata": {
    "id": "a06122be-2e1e-4dc7-a07a-bf494fec07c2"
   },
   "source": [
    "#### Nueva construcción (is_new_development)"
   ]
  },
  {
   "cell_type": "markdown",
   "id": "MpRLYwtMtwJl",
   "metadata": {
    "id": "MpRLYwtMtwJl"
   },
   "source": [
    "Oficialmente, una vivienda se considera de nueva construcción cuando tiene menos de 10 años, por lo que este será el criterio a seguir para completar los datos faltantes respecto a 2024."
   ]
  },
  {
   "cell_type": "code",
   "execution_count": null,
   "id": "560301e9-c88a-4a09-9cf7-5e9b03e4dfa7",
   "metadata": {
    "id": "560301e9-c88a-4a09-9cf7-5e9b03e4dfa7",
    "scrolled": true
   },
   "outputs": [],
   "source": [
    "# Función para rellenar los datos según el criterio indicado\n",
    "data['is_new_development'] = data.apply(\n",
    "    lambda row: True if pd.notna(row['built_year']) and 2014 <= row['built_year'] <= 2024 else\n",
    "                False if pd.notna(row['built_year']) and row['built_year'] < 2014 else\n",
    "                row['is_new_development'],\n",
    "    axis=1\n",
    ")"
   ]
  },
  {
   "cell_type": "markdown",
   "id": "768e6358-6971-44da-965b-aba7c4e93950",
   "metadata": {
    "id": "768e6358-6971-44da-965b-aba7c4e93950"
   },
   "source": [
    "#### Tipo de vivienda (title)"
   ]
  },
  {
   "cell_type": "markdown",
   "id": "g6sxXelluKo4",
   "metadata": {
    "id": "g6sxXelluKo4"
   },
   "source": [
    "Debido a la variedad del tipo de viviendas que existen y la disparidad de características que presentan entre ellas, hemos decidido quedarnos únicamente con los pisos y estudios, ya que los cosideramos los más uniformes para el análisis."
   ]
  },
  {
   "cell_type": "code",
   "execution_count": null,
   "id": "8c1f7116-422e-48a5-becf-2f56594a7a7d",
   "metadata": {
    "colab": {
     "base_uri": "https://localhost:8080/"
    },
    "id": "8c1f7116-422e-48a5-becf-2f56594a7a7d",
    "outputId": "132d730a-ca4c-443b-ca4e-0764b6d789ae"
   },
   "outputs": [],
   "source": [
    "# Ver valores actuales\n",
    "data['title'].unique()"
   ]
  },
  {
   "cell_type": "code",
   "execution_count": null,
   "id": "36a09742-45b7-4feb-8ae0-f186a748100d",
   "metadata": {
    "id": "36a09742-45b7-4feb-8ae0-f186a748100d"
   },
   "outputs": [],
   "source": [
    "# Seleccionar únicamente los valores de piso y estudio\n",
    "data = data[data['title'].str.contains('Piso|Estudio', case=False, na=False)]"
   ]
  },
  {
   "cell_type": "code",
   "execution_count": null,
   "id": "Z_GxTv6GxXLP",
   "metadata": {
    "id": "Z_GxTv6GxXLP"
   },
   "outputs": [],
   "source": [
    "# Una vez filtrados los datos, borramos la columna\n",
    "data = data.drop(\n",
    "    columns = ['title']\n",
    ")"
   ]
  },
  {
   "cell_type": "markdown",
   "id": "a93b47c3-459a-4193-a4f9-be5908aed990",
   "metadata": {
    "id": "a93b47c3-459a-4193-a4f9-be5908aed990"
   },
   "source": [
    "#### Descripción de la zona (subtitle)"
   ]
  },
  {
   "cell_type": "markdown",
   "id": "xrmb-xXgx1XG",
   "metadata": {
    "id": "xrmb-xXgx1XG"
   },
   "source": [
    "De esta columna nos quedaremos sólo con el distrito, que es el dato que nos interesa para el análisis."
   ]
  },
  {
   "cell_type": "code",
   "execution_count": null,
   "id": "a04cb57e-f6df-41ab-beb2-ea772b43ea14",
   "metadata": {
    "id": "a04cb57e-f6df-41ab-beb2-ea772b43ea14"
   },
   "outputs": [],
   "source": [
    "# Separar en dos columnas, por zona o ciudad\n",
    "data_dividido = data['subtitle'].str.split(',', expand=True)"
   ]
  },
  {
   "cell_type": "code",
   "execution_count": null,
   "id": "174308b2-d8d3-49e2-a1c6-623a47e43e88",
   "metadata": {
    "id": "174308b2-d8d3-49e2-a1c6-623a47e43e88"
   },
   "outputs": [],
   "source": [
    "# Nombramos las nuevas columnas\n",
    "data_dividido.columns = ['zona', 'ciudad']"
   ]
  },
  {
   "cell_type": "code",
   "execution_count": null,
   "id": "1730406d-23b6-4ffb-b7d6-4ffb126404de",
   "metadata": {
    "id": "1730406d-23b6-4ffb-b7d6-4ffb126404de"
   },
   "outputs": [],
   "source": [
    "# Sustituimos la nueva columna en el dataset\n",
    "data['subtitle'] = data_dividido['zona']"
   ]
  },
  {
   "cell_type": "code",
   "execution_count": null,
   "id": "nHmzzDtOyuWR",
   "metadata": {
    "id": "nHmzzDtOyuWR"
   },
   "outputs": [],
   "source": [
    "# Renombrar nueva columna como zona\n",
    "data = data.rename(columns={'subtitle': 'zona'})"
   ]
  },
  {
   "cell_type": "markdown",
   "id": "ziF-EQAmyaf4",
   "metadata": {
    "id": "ziF-EQAmyaf4"
   },
   "source": [
    "Ahora, tras esta transformación, vamos a simplificar los diferentes datos de las zonas por distritos, para reducir el número de valores de la columna y así facilitar el análisis."
   ]
  },
  {
   "cell_type": "code",
   "execution_count": null,
   "id": "6d8d0063-bb28-40f1-8dbc-6a06e1d19543",
   "metadata": {
    "colab": {
     "base_uri": "https://localhost:8080/"
    },
    "id": "6d8d0063-bb28-40f1-8dbc-6a06e1d19543",
    "outputId": "5acede38-5edb-479a-c6fc-a1be48bd9460"
   },
   "outputs": [],
   "source": [
    "# Ver valores únicos\n",
    "data['zona'].nunique()"
   ]
  },
  {
   "cell_type": "code",
   "execution_count": null,
   "id": "c455a4be-ace2-441a-99a7-66e42c8f6758",
   "metadata": {
    "id": "c455a4be-ace2-441a-99a7-66e42c8f6758"
   },
   "outputs": [],
   "source": [
    "# Mapear la columna zona con el número de distrito\n",
    "data[\"zona\"] = data[\"zona\"].map(\n",
    "     {\n",
    "    'San Cristóbal': 17,\n",
    "    'Los Ángeles': 17,\n",
    "    'San Andrés': 17,\n",
    "    'Los Rosales': 17,\n",
    "    'Villaverde': 17,\n",
    "    'Butarque': 17,\n",
    "    'Vicálvaro': 19,\n",
    "    'Ambroz': 19,\n",
    "    'Casco Histórico de Vicálvaro': 19,\n",
    "    'El Cañaveral - Los Berrocales': 19,\n",
    "    'Valdebernardo - Valderribas': 19,\n",
    "    'Casco Histórico de Vallecas': 18,\n",
    "    'Villa de Vallecas': 18,\n",
    "    'Ensanche de Vallecas - La Gavia': 18,\n",
    "    'Santa Eugenia': 18,\n",
    "    'Orcasitas': 12,\n",
    "    'Usera': 12,\n",
    "    'San Fermín': 12,\n",
    "    'Pradolongo': 12,\n",
    "    'Zofío': 12,\n",
    "    'Almendrales': 12,\n",
    "    'Moscardó': 12,\n",
    "    '12 de Octubre-Orcasur': 12,\n",
    "    'Tetuán': 6,\n",
    "    'Valdeacederas': 6,\n",
    "    'Berruguete': 6,\n",
    "    'Cuatro Caminos': 6,\n",
    "    'Cuzco-Castillejos': 6,\n",
    "    'Bellas Vistas': 6,\n",
    "    'Ventilla-Almenara': 6,\n",
    "    'Retiro': 3,\n",
    "    'Adelfas': 3,\n",
    "    'Ibiza': 3,\n",
    "    'Pacífico': 3,\n",
    "    'Niño Jesús': 3,\n",
    "    'Jerónimos': 3,\n",
    "    'Estrella': 3,\n",
    "    'Puente de Vallecas': 13,\n",
    "    'Palomeras Bajas': 13,\n",
    "    'San Diego': 13,\n",
    "    'Palomeras sureste': 13,\n",
    "    'Numancia': 13,\n",
    "    'Entrevías': 13,\n",
    "    'Portazgo': 13,\n",
    "    'Aravaca': 9,\n",
    "    'Argüelles': 9,\n",
    "    'Valdezarza': 9,\n",
    "    'Moncloa': 9,\n",
    "    'Ciudad Universitaria': 9,\n",
    "    'Fontarrón': 14,\n",
    "    'Moratalaz': 14,\n",
    "    'Vinateros': 14,\n",
    "    'Marroquina': 14,\n",
    "    'Media Legua': 14,\n",
    "    'Pavones': 14,\n",
    "    'Horcajo': 14,\n",
    "    'Puerta del Ángel': 10,\n",
    "    'Latina': 10,\n",
    "    'Los Cármenes': 10,\n",
    "    'Aluche': 10,\n",
    "    'Águilas': 10,\n",
    "    'Lucero': 10,\n",
    "    'Campamento': 10,\n",
    "    'Cuatro Vientos': 10,\n",
    "    'Valdemarín': 9,\n",
    "    'Casa de Campo': 9,\n",
    "    'El Plantío': 9,\n",
    "    'Fuencarral': 8,\n",
    "    'Las Tablas': 8,\n",
    "    'La Paz': 8,\n",
    "    'Peñagrande': 8,\n",
    "    'Tres Olivos - Valverde': 8,\n",
    "    'Montecarmelo': 8,\n",
    "    'Pilar': 8,\n",
    "    'Mirasierra': 8,\n",
    "    'Arroyo del Fresno': 8,\n",
    "    'Fuentelarreina': 8,\n",
    "    'El Pardo': 8,\n",
    "    'Sanchinarro': 16,\n",
    "    'Hortaleza': 16,\n",
    "    'Virgen del Cortijo - Manoteras': 16,\n",
    "    'Valdebebas - Valdefuentes': 16,\n",
    "    'Palomas': 16,\n",
    "    'Pinar del Rey': 16,\n",
    "    'Conde Orgaz-Piovera': 16,\n",
    "    'Canillas': 16,\n",
    "    'Apóstol Santiago': 16,\n",
    "    'Chamberí':7,\n",
    "    'Almagro':7,\n",
    "    'Trafalgar':7,\n",
    "    'Nuevos Ministerios-Ríos Rosas':7,\n",
    "    'Vallehermoso':7,\n",
    "    'Gaztambide':7,\n",
    "    'Arapiles':7,\n",
    "    'Ventas': 15,\n",
    "    'Pueblo Nuevo': 15,\n",
    "    'Atalaya': 15,\n",
    "    'Quintana': 15,\n",
    "    'San Juan Bautista': 15,\n",
    "    'Costillares': 15,\n",
    "    'Ciudad Lineal': 15,\n",
    "    'Concepción': 15,\n",
    "    'Colina': 15,\n",
    "    'San Pascual': 15,\n",
    "    'Chamartín': 5,\n",
    "    'El Viso': 5,\n",
    "    'Prosperidad': 5,\n",
    "    'Nueva España': 5,\n",
    "    'Castilla': 5,\n",
    "    'Bernabéu-Hispanoamérica': 5,\n",
    "    'Ciudad Jardín': 5,\n",
    "    'Lavapiés-Embajadores': 1,\n",
    "    'Opañel': 11,\n",
    "    'Comillas': 11,\n",
    "    'Abrantes': 11,\n",
    "    'San Isidro': 11,\n",
    "    'Carabanchel': 11,\n",
    "    'Puerta Bonita': 11,\n",
    "    'Vista Alegre': 11,\n",
    "    'Pau de Carabanchel': 11,\n",
    "    'Buena Vista': 11,\n",
    "    'Huertas-Cortes': 1,\n",
    "    'Malasaña-Universidad': 1,\n",
    "    'Chueca-Justicia': 1,\n",
    "    'Palacio': 1,\n",
    "    'Centro': 1,\n",
    "    'Sol': 1,\n",
    "    'Barrio de Salamanca': 4,\n",
    "    'Goya': 4,\n",
    "    'Lista': 4,\n",
    "    'Guindalera': 4,\n",
    "    'Fuente del Berro': 4,\n",
    "    'Castellana': 4,\n",
    "    'Recoletos': 4,\n",
    "    'Imperial': 2,\n",
    "    'Chopera': 2,\n",
    "    'Acacias': 2,\n",
    "    'Delicias': 2,\n",
    "    'Palos de Moguer': 2,\n",
    "    'Legazpi': 2,\n",
    "    'Arganzuela': 2,\n",
    "    'Casco Histórico de Barajas': 20,\n",
    "    'Alameda de Osuna': 20,\n",
    "    'Timón': 20,\n",
    "    'Campo de las Naciones-Corralejos': 20,\n",
    "    'Barajas': 20}\n",
    ")"
   ]
  },
  {
   "cell_type": "markdown",
   "id": "ba45e8a8-fb87-4468-aee7-1432880d04cc",
   "metadata": {
    "id": "ba45e8a8-fb87-4468-aee7-1432880d04cc"
   },
   "source": [
    "#### Renombrar columnas con las que me quedo"
   ]
  },
  {
   "cell_type": "markdown",
   "id": "uPDfrJrdzLt_",
   "metadata": {
    "id": "uPDfrJrdzLt_"
   },
   "source": [
    "Por último, vamos renombrar todas las columnas para facilitar la comprensión:"
   ]
  },
  {
   "cell_type": "code",
   "execution_count": null,
   "id": "dace341b-7af0-4bb4-b654-107511725c71",
   "metadata": {
    "id": "dace341b-7af0-4bb4-b654-107511725c71"
   },
   "outputs": [],
   "source": [
    "# Renombrar columnas del dataset\n",
    "data.rename(columns =\n",
    "            {'zona':'zona',\n",
    "             'sq_mt_built':'metros_cuadrados',\n",
    "             'n_rooms':'numero_habitaciones',\n",
    "             'n_bathrooms':'numero_baños',\n",
    "             'floor':'altura_piso',\n",
    "             'buy_price':'precio_venta',\n",
    "            'is_renewal_needed':'necesita_reforma',\n",
    "             'built_year':'año_construccion',\n",
    "             'has_ac': 'aire_acondicionado',\n",
    "             'has_lift': 'ascensor',\n",
    "             'has_pool' : 'piscina',\n",
    "             'has_terrace':'terraza',\n",
    "             'has_balcony': 'balcon',\n",
    "             'is_accessible':'accesibilidad',\n",
    "             'has_green_zones':'zonas_verdes',\n",
    "             'has_storage_room':'trastero',\n",
    "             'has_parking':'parking',\n",
    "             'is_new_development':'nueva_construccion'\n",
    "            },\n",
    "            inplace=True)"
   ]
  },
  {
   "cell_type": "markdown",
   "id": "cbe0a85f-0316-4908-993f-f32a9c00c854",
   "metadata": {
    "id": "cbe0a85f-0316-4908-993f-f32a9c00c854"
   },
   "source": [
    "### Comprobación de la limpieza"
   ]
  },
  {
   "cell_type": "markdown",
   "id": "aJmroIxizg8w",
   "metadata": {
    "id": "aJmroIxizg8w"
   },
   "source": [
    "Ya sólo queda comprobar como han quedado los datos tras la limpieza realizada."
   ]
  },
  {
   "cell_type": "code",
   "execution_count": null,
   "id": "JSqbBMDvzrFq",
   "metadata": {
    "colab": {
     "base_uri": "https://localhost:8080/",
     "height": 226
    },
    "id": "JSqbBMDvzrFq",
    "outputId": "7bbfce8b-7209-4d8b-df73-ae4e07951603"
   },
   "outputs": [],
   "source": [
    "# Visualizar primeros resultados\n",
    "data.head()"
   ]
  },
  {
   "cell_type": "code",
   "execution_count": null,
   "id": "FyvZIXmazvyE",
   "metadata": {
    "colab": {
     "base_uri": "https://localhost:8080/"
    },
    "id": "FyvZIXmazvyE",
    "outputId": "5f341ced-a627-40e6-f5ae-5becf8cda6c7"
   },
   "outputs": [],
   "source": [
    "# Comprobar tamaño\n",
    "data.shape"
   ]
  },
  {
   "cell_type": "code",
   "execution_count": null,
   "id": "Mg0nhh9Fz4xL",
   "metadata": {
    "colab": {
     "base_uri": "https://localhost:8080/"
    },
    "id": "Mg0nhh9Fz4xL",
    "outputId": "2a279235-acbe-48d5-dc52-d3e65f8c4d74"
   },
   "outputs": [],
   "source": [
    "# Comprobar tipo de datos y nulos\n",
    "data.info()"
   ]
  },
  {
   "cell_type": "markdown",
   "id": "HYCaFXz-2iDe",
   "metadata": {
    "id": "HYCaFXz-2iDe"
   },
   "source": [
    "Hasta aquí llega la parte de la limpieza de los datos. En el siguiente apartado comprobaremos si los criterios utilizados nos proporcionan un modelo de predicción útil para predecir precios de vivienda."
   ]
  },
  {
   "cell_type": "code",
   "execution_count": null,
   "id": "zdtcU5uHRxWp",
   "metadata": {
    "id": "zdtcU5uHRxWp"
   },
   "outputs": [],
   "source": [
    "# Descargar datos limpios en formato csv\n",
    "#data.to_csv('excel_limpio_csv.csv', index = False)"
   ]
  },
  {
   "cell_type": "markdown",
   "id": "mhFLII4AZZ4q",
   "metadata": {
    "id": "mhFLII4AZZ4q"
   },
   "source": []
  },
  {
   "cell_type": "markdown",
   "id": "LEZkVxIhZZpS",
   "metadata": {
    "id": "LEZkVxIhZZpS"
   },
   "source": [
    "# 2- PREDICCIÓN"
   ]
  },
  {
   "cell_type": "markdown",
   "id": "DkzWF4mSQTig",
   "metadata": {
    "id": "DkzWF4mSQTig"
   },
   "source": [
    "En este apartado vamos a tratar de realizar un modelo de predicción en base al análisis realizado previamente. Por un lado, un Árbol de Decisión con todas las columnas, y por otro un análisis de VIF y modelo de Regresión Lineal con dos tipos de librerías y diferentes combinaciones de columnas.  \n",
    "Por último, compararemos ambos modelos y nos quedaremos el que muestre mejores resultados."
   ]
  },
  {
   "cell_type": "markdown",
   "id": "YmePFN_pZp8o",
   "metadata": {
    "id": "YmePFN_pZp8o"
   },
   "source": [
    "### ÁRBOL DE DECISIÓN"
   ]
  },
  {
   "cell_type": "code",
   "execution_count": null,
   "id": "YtOipGOUZpg1",
   "metadata": {
    "id": "YtOipGOUZpg1"
   },
   "outputs": [],
   "source": [
    "# Selección de columnas de X e y\n",
    "X = data.loc[:,data.columns != 'precio_venta']\n",
    "y = data.loc[:,'precio_venta']"
   ]
  },
  {
   "cell_type": "code",
   "execution_count": null,
   "id": "xxU4AvLyZ3Xb",
   "metadata": {
    "id": "xxU4AvLyZ3Xb"
   },
   "outputs": [],
   "source": [
    "# Preparación de los datos en train y test\n",
    "X_train, X_test, y_train, y_test = train_test_split(\n",
    "    X,y,\n",
    "    train_size = 0.75,\n",
    "    test_size = 0.25\n",
    ")"
   ]
  },
  {
   "cell_type": "code",
   "execution_count": null,
   "id": "kUSbt0RUalC6",
   "metadata": {
    "colab": {
     "base_uri": "https://localhost:8080/"
    },
    "id": "kUSbt0RUalC6",
    "outputId": "ef06d84e-3a88-4ae6-83d7-12ee8b7e6736"
   },
   "outputs": [],
   "source": [
    "# Creación de modelo, entrenamiento y predicción\n",
    "decission_tree = DecisionTreeClassifier()\n",
    "decission_tree.fit(X_train, y_train)\n",
    "y_pred = decission_tree.predict(X_test)\n",
    "score_tree = round(decission_tree.score(X_train, y_train) * 100, 2)\n",
    "score_tree"
   ]
  },
  {
   "cell_type": "code",
   "execution_count": null,
   "id": "vT0A1l-abnR1",
   "metadata": {
    "id": "vT0A1l-abnR1"
   },
   "outputs": [],
   "source": []
  },
  {
   "cell_type": "markdown",
   "id": "sQtkHZkQR8rA",
   "metadata": {
    "id": "sQtkHZkQR8rA"
   },
   "source": [
    "### REGRESIÓN LINEAL"
   ]
  },
  {
   "cell_type": "markdown",
   "id": "d6e2e146-1b86-465d-b0e6-e71b47140a51",
   "metadata": {
    "id": "d6e2e146-1b86-465d-b0e6-e71b47140a51"
   },
   "source": [
    "### Preparacion de la data para el modelo"
   ]
  },
  {
   "cell_type": "markdown",
   "id": "65798b89-93dc-4be2-a73d-d662d36f7f6b",
   "metadata": {
    "id": "65798b89-93dc-4be2-a73d-d662d36f7f6b"
   },
   "source": [
    "#### Convertir columnas true/false en 1 y 0"
   ]
  },
  {
   "cell_type": "code",
   "execution_count": null,
   "id": "3d4cfbde-8e5b-404c-8d70-cdda1992b558",
   "metadata": {
    "id": "3d4cfbde-8e5b-404c-8d70-cdda1992b558"
   },
   "outputs": [],
   "source": [
    "# Convertir variables\n",
    "columnas_true_false = data[['necesita_reforma','nueva_construccion','aire_acondicionado','ascensor','piscina','terraza','balcon','trastero','accesibilidad','zonas_verdes','parking']].astype(bool)\n",
    "for column in columnas_true_false:\n",
    "    data[column] = np.where(data[column], 1, 0)\n"
   ]
  },
  {
   "cell_type": "markdown",
   "id": "77cebcfe-fb2a-4642-97cd-937ac4110756",
   "metadata": {
    "id": "77cebcfe-fb2a-4642-97cd-937ac4110756"
   },
   "source": [
    "#### Normalizacion"
   ]
  },
  {
   "cell_type": "code",
   "execution_count": null,
   "id": "2c128aa3-4c6a-409c-9c4e-cbb3c35f5cf3",
   "metadata": {
    "colab": {
     "base_uri": "https://localhost:8080/",
     "height": 423
    },
    "id": "2c128aa3-4c6a-409c-9c4e-cbb3c35f5cf3",
    "outputId": "120b5da4-6b3d-4470-aeb4-ee3e15299e22"
   },
   "outputs": [],
   "source": [
    "# Normalización de datos\n",
    "df= data[['metros_cuadrados','numero_habitaciones','numero_baños','altura_piso','precio_venta']]\n",
    "df_norm = (df-df.min()) / (df.max() - df.min())\n",
    "df_norm"
   ]
  },
  {
   "cell_type": "markdown",
   "id": "8a5dd69d-fd47-47b6-95bc-f57d15438350",
   "metadata": {
    "id": "8a5dd69d-fd47-47b6-95bc-f57d15438350"
   },
   "source": [
    "#### Ver correlaciones"
   ]
  },
  {
   "cell_type": "code",
   "execution_count": null,
   "id": "4106e6d4-d68f-4c22-94ee-c7e8552820fd",
   "metadata": {
    "id": "4106e6d4-d68f-4c22-94ee-c7e8552820fd"
   },
   "outputs": [],
   "source": [
    "# Creación de matriz de correlación\n",
    "correlation_matrix = data.corr().round(2)"
   ]
  },
  {
   "cell_type": "code",
   "execution_count": null,
   "id": "4e9e3c1f-b9ea-4eef-b4c7-481039f79791",
   "metadata": {
    "id": "4e9e3c1f-b9ea-4eef-b4c7-481039f79791",
    "scrolled": true
   },
   "outputs": [],
   "source": [
    "# Filtro para coger las de mayor correlación\n",
    "filtro = (data.corr()[\"precio_venta\"]>0.2) | (data.corr()[\"precio_venta\"]<-0.2)"
   ]
  },
  {
   "cell_type": "code",
   "execution_count": null,
   "id": "312b071d-e8de-44f0-88da-0fb3e9c1cff4",
   "metadata": {
    "id": "312b071d-e8de-44f0-88da-0fb3e9c1cff4"
   },
   "outputs": [],
   "source": [
    "# Nuevos datos con el filtro anterior\n",
    "data_bis = data.loc[:,filtro]"
   ]
  },
  {
   "cell_type": "code",
   "execution_count": null,
   "id": "8850dcb3-89fb-4003-8ae8-9a58b8e57e28",
   "metadata": {
    "colab": {
     "base_uri": "https://localhost:8080/",
     "height": 423
    },
    "id": "8850dcb3-89fb-4003-8ae8-9a58b8e57e28",
    "outputId": "aa2040c0-bfc0-4b0b-e04c-35c923544ed2",
    "scrolled": true
   },
   "outputs": [],
   "source": [
    "# Ver datos disponibles\n",
    "data_bis"
   ]
  },
  {
   "cell_type": "markdown",
   "id": "6d862901-9abc-496d-82a4-28463ec96cf3",
   "metadata": {
    "id": "6d862901-9abc-496d-82a4-28463ec96cf3"
   },
   "source": [
    "### Separar en train y test"
   ]
  },
  {
   "cell_type": "code",
   "execution_count": null,
   "id": "8554747c-3484-4161-b43c-51b887eeb6e4",
   "metadata": {
    "id": "8554747c-3484-4161-b43c-51b887eeb6e4"
   },
   "outputs": [],
   "source": [
    "# Preparación de X e y\n",
    "X = data.loc[:,data.columns != 'precio_venta']\n",
    "y = data.loc[:,'precio_venta']"
   ]
  },
  {
   "cell_type": "code",
   "execution_count": null,
   "id": "73446d97-5af4-4a02-b15a-aba26b9289ba",
   "metadata": {
    "id": "73446d97-5af4-4a02-b15a-aba26b9289ba"
   },
   "outputs": [],
   "source": [
    "# Separar datos en train y test\n",
    "X_train, X_test, y_train, y_test = train_test_split(\n",
    "    X,y,\n",
    "    train_size = 0.75,\n",
    "    test_size = 0.25\n",
    ")"
   ]
  },
  {
   "cell_type": "code",
   "execution_count": null,
   "id": "9a42002a-f050-4f2e-9fd7-48190cc71753",
   "metadata": {
    "colab": {
     "base_uri": "https://localhost:8080/"
    },
    "id": "9a42002a-f050-4f2e-9fd7-48190cc71753",
    "outputId": "0a7ecc0d-187a-4e80-cc4b-423e30c037d7"
   },
   "outputs": [],
   "source": [
    "# Ver tamaño de los datos\n",
    "X_train.size, y_train.size, y_train.size, y_test.size"
   ]
  },
  {
   "cell_type": "code",
   "execution_count": null,
   "id": "dd67214f-ffe0-47ef-ad2b-e91c27ff2d32",
   "metadata": {
    "colab": {
     "base_uri": "https://localhost:8080/"
    },
    "id": "dd67214f-ffe0-47ef-ad2b-e91c27ff2d32",
    "outputId": "086cf884-8c16-4e6b-b5bf-ce68e5152da4",
    "scrolled": true
   },
   "outputs": [],
   "source": [
    "# Imprimir valores\n",
    "print(X_train.columns.values)"
   ]
  },
  {
   "cell_type": "code",
   "execution_count": null,
   "id": "0b202c87-512a-4426-99fa-6fca6955b3c9",
   "metadata": {
    "id": "0b202c87-512a-4426-99fa-6fca6955b3c9"
   },
   "outputs": [],
   "source": [
    "# Unir datos que nos interesan\n",
    "concatenada = pd.concat([X_train,y_train], axis=1)"
   ]
  },
  {
   "cell_type": "markdown",
   "id": "7854a298-c833-4a70-a341-dbfcfcf72b7e",
   "metadata": {
    "id": "7854a298-c833-4a70-a341-dbfcfcf72b7e"
   },
   "source": [
    "## Entrenar el modelo"
   ]
  },
  {
   "cell_type": "markdown",
   "id": "21abcba4-d3d8-41cc-bcf4-f797cc508ea4",
   "metadata": {
    "id": "21abcba4-d3d8-41cc-bcf4-f797cc508ea4"
   },
   "source": [
    "#### --- Librería SMF"
   ]
  },
  {
   "cell_type": "code",
   "execution_count": null,
   "id": "77c6d726-d026-465b-b355-b02731964ff0",
   "metadata": {
    "id": "77c6d726-d026-465b-b355-b02731964ff0"
   },
   "outputs": [],
   "source": [
    "# Creación y entrenamiento del modelo\n",
    "modelo = smf.ols(\n",
    "    formula = \"precio_venta ~ necesita_reforma + nueva_construccion + aire_acondicionado + ascensor + piscina + terraza + balcon + trastero + accesibilidad + zonas_verdes + parking + zona + metros_cuadrados + numero_habitaciones + numero_baños + altura_piso\",\n",
    "    data = concatenada\n",
    ").fit()"
   ]
  },
  {
   "cell_type": "code",
   "execution_count": null,
   "id": "63f352a4-5ce4-497c-bdcb-e30084e5311c",
   "metadata": {
    "colab": {
     "base_uri": "https://localhost:8080/"
    },
    "id": "63f352a4-5ce4-497c-bdcb-e30084e5311c",
    "outputId": "569c030f-dc39-4874-87b9-baadf89d34ad"
   },
   "outputs": [],
   "source": [
    "# Filtro de columnas relevantes\n",
    "col_relevantes = modelo.pvalues<0.05\n",
    "col_relevantes"
   ]
  },
  {
   "cell_type": "code",
   "execution_count": null,
   "id": "1c4985fd-6065-4213-8286-365ea726ab53",
   "metadata": {
    "colab": {
     "base_uri": "https://localhost:8080/"
    },
    "id": "1c4985fd-6065-4213-8286-365ea726ab53",
    "outputId": "5a352f0e-5973-44d2-9d45-863505cf655d"
   },
   "outputs": [],
   "source": [
    "# Cálculo de R2\n",
    "modelo.rsquared"
   ]
  },
  {
   "cell_type": "code",
   "execution_count": null,
   "id": "9ed9130b-431e-4286-901e-55d3b52a045f",
   "metadata": {
    "colab": {
     "base_uri": "https://localhost:8080/"
    },
    "id": "9ed9130b-431e-4286-901e-55d3b52a045f",
    "outputId": "562d2408-6dd0-448b-9c77-83f1d0fd5d73"
   },
   "outputs": [],
   "source": [
    "# Cálculo de R2 ajustado\n",
    "modelo.rsquared_adj"
   ]
  },
  {
   "cell_type": "markdown",
   "id": "a0eea5b1-f9d2-408c-a45f-de2868f7e506",
   "metadata": {
    "id": "a0eea5b1-f9d2-408c-a45f-de2868f7e506"
   },
   "source": [
    "Analizar VIF de variables relevantes"
   ]
  },
  {
   "cell_type": "code",
   "execution_count": null,
   "id": "48b1bbe7-0911-4130-94a3-1bff59f3c5fc",
   "metadata": {
    "colab": {
     "base_uri": "https://localhost:8080/"
    },
    "id": "48b1bbe7-0911-4130-94a3-1bff59f3c5fc",
    "outputId": "68ec4b3d-a17b-4b17-ca8e-d4494fa75d40"
   },
   "outputs": [],
   "source": [
    "# Selección de columnas relevantes\n",
    "columnas = col_relevantes.index[col_relevantes.index != \"Intercept\"]\n",
    "columnas"
   ]
  },
  {
   "cell_type": "code",
   "execution_count": null,
   "id": "4df1b124-2e63-47c6-90c6-c82756b8e613",
   "metadata": {
    "colab": {
     "base_uri": "https://localhost:8080/"
    },
    "id": "4df1b124-2e63-47c6-90c6-c82756b8e613",
    "outputId": "5051f690-6f8b-4ef6-9d37-e37777fa208e"
   },
   "outputs": [],
   "source": [
    "# Mostrar columnas relevantes\n",
    "X_train.columns"
   ]
  },
  {
   "cell_type": "markdown",
   "id": "5ed21be3-a07f-4de8-ab5a-c1e9acbd082a",
   "metadata": {
    "id": "5ed21be3-a07f-4de8-ab5a-c1e9acbd082a"
   },
   "source": [
    "#### Calcular VIF"
   ]
  },
  {
   "cell_type": "code",
   "execution_count": null,
   "id": "ee2d3da8-4c60-4315-bbed-d6d525b51612",
   "metadata": {
    "colab": {
     "base_uri": "https://localhost:8080/"
    },
    "id": "ee2d3da8-4c60-4315-bbed-d6d525b51612",
    "outputId": "45cf06cb-0bc3-4a40-909a-2fcddefde142"
   },
   "outputs": [],
   "source": [
    "# Calcular VIF de las variables\n",
    "vif_acum = {}\n",
    "\n",
    "for i in columnas:\n",
    "\n",
    "    x = X_train.loc[:,X_train.columns != i]\n",
    "    y = X_train.loc[:,i]\n",
    "\n",
    "    lm = LinearRegression()\n",
    "    lm.fit(x, y)\n",
    "    r2 = lm.score(x, y)\n",
    "\n",
    "    vif = (1/(1-r2))\n",
    "    vif_acum[i] = vif\n",
    "\n",
    "vif_acum"
   ]
  },
  {
   "cell_type": "markdown",
   "id": "919beff7-efde-4d60-aae9-fa0b2bc6bafa",
   "metadata": {
    "id": "919beff7-efde-4d60-aae9-fa0b2bc6bafa"
   },
   "source": [
    "### Probar a quitar variables para encontrar el modelo más óptimo"
   ]
  },
  {
   "cell_type": "code",
   "execution_count": null,
   "id": "5c8ebe18-9de0-4707-a349-c934edbb9385",
   "metadata": {
    "id": "5c8ebe18-9de0-4707-a349-c934edbb9385"
   },
   "outputs": [],
   "source": [
    "# Crear y entrenar nuevo modelo\n",
    "modelo = smf.ols(\n",
    "    formula = \"precio_venta ~ necesita_reforma + aire_acondicionado + ascensor + piscina + terraza + balcon + trastero + accesibilidad + zonas_verdes + parking + zona + metros_cuadrados + numero_habitaciones + numero_baños + altura_piso\",\n",
    "    data = concatenada\n",
    ").fit()"
   ]
  },
  {
   "cell_type": "code",
   "execution_count": null,
   "id": "cde10795-ebaf-4a75-a24e-a3352f23d2bb",
   "metadata": {
    "colab": {
     "base_uri": "https://localhost:8080/"
    },
    "id": "cde10795-ebaf-4a75-a24e-a3352f23d2bb",
    "outputId": "d131f6a7-c978-4114-97a0-a2c88e95b19e"
   },
   "outputs": [],
   "source": [
    "# Visualizar su R2 ajustado\n",
    "modelo.rsquared_adj"
   ]
  },
  {
   "cell_type": "code",
   "execution_count": null,
   "id": "d0ae3f2e-c73a-4b49-8503-e193de774fd4",
   "metadata": {
    "id": "d0ae3f2e-c73a-4b49-8503-e193de774fd4"
   },
   "outputs": [],
   "source": [
    "# Crear y entrenar nuevo modelo\n",
    "modelo = smf.ols(\n",
    "    formula = \"precio_venta ~ ascensor + piscina + terraza + balcon + trastero + accesibilidad + zonas_verdes + parking + zona + metros_cuadrados + numero_habitaciones + numero_baños + altura_piso\",\n",
    "    data = concatenada\n",
    ").fit()"
   ]
  },
  {
   "cell_type": "code",
   "execution_count": null,
   "id": "d3d98414-e0e4-43f1-ab6d-090446ba7154",
   "metadata": {
    "colab": {
     "base_uri": "https://localhost:8080/"
    },
    "id": "d3d98414-e0e4-43f1-ab6d-090446ba7154",
    "outputId": "8504eb2b-eefa-4181-c91c-34313e623203"
   },
   "outputs": [],
   "source": [
    "# Ver su R2 ajustado\n",
    "modelo.rsquared_adj"
   ]
  },
  {
   "cell_type": "code",
   "execution_count": null,
   "id": "ea6954b0-1bb9-4067-9889-4e1b8a8c82fa",
   "metadata": {
    "id": "ea6954b0-1bb9-4067-9889-4e1b8a8c82fa"
   },
   "outputs": [],
   "source": [
    "# Crear y entrenar el nuevo modelo\n",
    "modelo = smf.ols(\n",
    "    formula = \"precio_venta ~ ascensor + piscina + terraza + zona + metros_cuadrados + numero_habitaciones + numero_baños\",\n",
    "    data = concatenada\n",
    ").fit()"
   ]
  },
  {
   "cell_type": "code",
   "execution_count": null,
   "id": "f14d7983-c266-4e69-8945-fd17c882ce0d",
   "metadata": {
    "colab": {
     "base_uri": "https://localhost:8080/"
    },
    "id": "f14d7983-c266-4e69-8945-fd17c882ce0d",
    "outputId": "dd4e7efa-914e-4aa3-d40d-289c549ce504"
   },
   "outputs": [],
   "source": [
    "# Ver su R2 ajustado\n",
    "modelo.rsquared_adj"
   ]
  },
  {
   "cell_type": "markdown",
   "id": "8ff40840-7389-4069-9e1c-805c8fb74c35",
   "metadata": {
    "id": "8ff40840-7389-4069-9e1c-805c8fb74c35"
   },
   "source": [
    "### -- Librería LinearRegression"
   ]
  },
  {
   "cell_type": "code",
   "execution_count": null,
   "id": "2f4c20a8-e139-4522-a3dc-3d906ea1b333",
   "metadata": {
    "colab": {
     "base_uri": "https://localhost:8080/"
    },
    "id": "2f4c20a8-e139-4522-a3dc-3d906ea1b333",
    "outputId": "9a2f24ed-d1de-4483-d697-dfed45713e09"
   },
   "outputs": [],
   "source": [
    "# Crear y entrenar modelo con todas las variables\n",
    "modelo = LinearRegression()\n",
    "modelo.fit(X_train, y_train)\n",
    "modelo.score(X_test.loc[:,X_train.columns], y_test)"
   ]
  },
  {
   "cell_type": "code",
   "execution_count": null,
   "id": "3529d159-4910-40d5-8a3a-b60fc65d3cad",
   "metadata": {
    "colab": {
     "base_uri": "https://localhost:8080/"
    },
    "id": "3529d159-4910-40d5-8a3a-b60fc65d3cad",
    "outputId": "64e01621-5bbe-4479-a925-44eefac99a03"
   },
   "outputs": [],
   "source": [
    "# Crear y entrenar modelo con otras variables\n",
    "X_train = X_train.loc[:,['ascensor','piscina','zonas_verdes','zona','metros_cuadrados','numero_habitaciones','numero_baños','accesibilidad','balcon']]\n",
    "X_test = X_test.loc[:,['ascensor','piscina','zonas_verdes','zona','metros_cuadrados','numero_habitaciones','numero_baños','accesibilidad','balcon']]\n",
    "modelo = LinearRegression()\n",
    "modelo.fit(X_train, y_train)\n",
    "modelo.score(X_test.loc[:,X_train.columns], y_test)"
   ]
  },
  {
   "cell_type": "code",
   "execution_count": null,
   "id": "a6b8799f-01b3-4f98-96c0-05a3cfa478e8",
   "metadata": {
    "colab": {
     "base_uri": "https://localhost:8080/"
    },
    "id": "a6b8799f-01b3-4f98-96c0-05a3cfa478e8",
    "outputId": "de441e51-1a00-4fa8-d3d3-d2eab05edcaa"
   },
   "outputs": [],
   "source": [
    "# Comprobar su R2 ajustado\n",
    "y_pred = modelo.predict(X_test)\n",
    "r2 = r2_score(y_test, y_pred)\n",
    "n = len(y_test)\n",
    "p = 8\n",
    "r2_ajustado = 1 - ((1 - r2) * (n - 1)) / (n - p - 1)\n",
    "print(f\"R^2 ajustado: {r2_ajustado}\")"
   ]
  },
  {
   "cell_type": "code",
   "execution_count": null,
   "id": "bbfee320-64b4-4d84-8bfd-83468d6d4dc5",
   "metadata": {
    "colab": {
     "base_uri": "https://localhost:8080/"
    },
    "id": "bbfee320-64b4-4d84-8bfd-83468d6d4dc5",
    "outputId": "3d5ced46-29bd-4755-e1d2-7cf22efbfae2"
   },
   "outputs": [],
   "source": [
    "# Crear y entrenar modelo con otras variables\n",
    "X_train = X_train.loc[:,['ascensor','piscina','zonas_verdes','zona','metros_cuadrados','numero_habitaciones','numero_baños','accesibilidad']]\n",
    "X_test = X_test.loc[:,['ascensor','piscina','zonas_verdes','zona','metros_cuadrados','numero_habitaciones','numero_baños','accesibilidad']]\n",
    "modelo = LinearRegression()\n",
    "modelo.fit(X_train, y_train)\n",
    "modelo.score(X_test.loc[:,X_train.columns], y_test)"
   ]
  },
  {
   "cell_type": "code",
   "execution_count": null,
   "id": "5506b635-15b0-457b-8fc2-9510dc89d79a",
   "metadata": {
    "colab": {
     "base_uri": "https://localhost:8080/"
    },
    "id": "5506b635-15b0-457b-8fc2-9510dc89d79a",
    "outputId": "7cb278db-9dcd-4703-ff2b-394eec54f95e"
   },
   "outputs": [],
   "source": [
    "# Comprobar su R2 ajustado\n",
    "y_pred = modelo.predict(X_test)\n",
    "r2 = r2_score(y_test, y_pred)\n",
    "n = len(y_test)\n",
    "p = 8\n",
    "r2_ajustado = 1 - ((1 - r2) * (n - 1)) / (n - p - 1)\n",
    "print(f\"R^2 ajustado: {r2_ajustado}\")"
   ]
  },
  {
   "cell_type": "code",
   "execution_count": null,
   "id": "ea397b8b-6005-439f-a797-f74f5090ebe3",
   "metadata": {
    "colab": {
     "base_uri": "https://localhost:8080/"
    },
    "id": "ea397b8b-6005-439f-a797-f74f5090ebe3",
    "outputId": "54cec97b-8dd4-4c42-9592-673ca8452cf9"
   },
   "outputs": [],
   "source": [
    "# Crear y entrenar modelo con otras variables\n",
    "X_train = X_train.loc[:,['ascensor','piscina','zonas_verdes','zona','metros_cuadrados','numero_habitaciones','numero_baños']]\n",
    "X_test = X_test.loc[:,['ascensor','piscina','zonas_verdes','zona','metros_cuadrados','numero_habitaciones','numero_baños']]\n",
    "modelo = LinearRegression()\n",
    "modelo.fit(X_train, y_train)\n",
    "modelo.score(X_test.loc[:,X_train.columns], y_test)"
   ]
  },
  {
   "cell_type": "code",
   "execution_count": null,
   "id": "29b2c61a-729f-4afb-8a66-22c0fa05d0b8",
   "metadata": {
    "colab": {
     "base_uri": "https://localhost:8080/"
    },
    "id": "29b2c61a-729f-4afb-8a66-22c0fa05d0b8",
    "outputId": "da8fb0fe-859e-43fc-9522-30461b15e1ff"
   },
   "outputs": [],
   "source": [
    "# Comprobar su R2 ajustado\n",
    "y_pred = modelo.predict(X_test)\n",
    "r2 = r2_score(y_test, y_pred)\n",
    "n = len(y_test)\n",
    "p = 7\n",
    "r2_ajustado = 1 - ((1 - r2) * (n - 1)) / (n - p - 1)\n",
    "print(f\"R^2 ajustado: {r2_ajustado}\")"
   ]
  },
  {
   "cell_type": "code",
   "execution_count": null,
   "id": "718d6ffc-e190-43d2-9f2b-49bcf250bb1f",
   "metadata": {
    "colab": {
     "base_uri": "https://localhost:8080/"
    },
    "id": "718d6ffc-e190-43d2-9f2b-49bcf250bb1f",
    "outputId": "d7bdfa86-b07c-4f6e-83d0-35e0f32ba575"
   },
   "outputs": [],
   "source": [
    "# Crear y entrenar modelo con otras variables\n",
    "X_train = X_train.loc[:,['ascensor','zonas_verdes','zona','metros_cuadrados','numero_habitaciones','numero_baños']]\n",
    "X_test = X_test.loc[:,['ascensor','zonas_verdes','zona','metros_cuadrados','numero_habitaciones','numero_baños']]\n",
    "modelo = LinearRegression()\n",
    "modelo.fit(X_train, y_train)\n",
    "modelo.score(X_test.loc[:,X_train.columns], y_test)"
   ]
  },
  {
   "cell_type": "code",
   "execution_count": null,
   "id": "4cf33487-32a5-4fc3-916e-2e9e2bbe2118",
   "metadata": {
    "colab": {
     "base_uri": "https://localhost:8080/"
    },
    "id": "4cf33487-32a5-4fc3-916e-2e9e2bbe2118",
    "outputId": "bdabf382-15f1-4abe-96da-39da1e580f0a"
   },
   "outputs": [],
   "source": [
    "# Comprobar su R2 ajustado\n",
    "y_pred = modelo.predict(X_test)\n",
    "r2 = r2_score(y_test, y_pred)\n",
    "n = len(y_test)\n",
    "p = 6\n",
    "r2_ajustado = 1 - ((1 - r2) * (n - 1)) / (n - p - 1)\n",
    "print(f\"R^2 ajustado: {r2_ajustado}\")"
   ]
  },
  {
   "cell_type": "code",
   "execution_count": null,
   "id": "0300f780-683f-4a08-b2a8-6a50b4fc07da",
   "metadata": {
    "colab": {
     "base_uri": "https://localhost:8080/"
    },
    "id": "0300f780-683f-4a08-b2a8-6a50b4fc07da",
    "outputId": "b66914c2-ee5e-408c-cbd0-c7371d9872f7"
   },
   "outputs": [],
   "source": [
    "# Crear y entrenar modelo con otras variables\n",
    "X_train = X_train.loc[:,['ascensor','zona','metros_cuadrados','numero_habitaciones','numero_baños']]\n",
    "X_test = X_test.loc[:,['ascensor','zona','metros_cuadrados','numero_habitaciones','numero_baños']]\n",
    "modelo = LinearRegression()\n",
    "modelo.fit(X_train, y_train)\n",
    "modelo.score(X_test.loc[:,X_train.columns], y_test)"
   ]
  },
  {
   "cell_type": "code",
   "execution_count": null,
   "id": "c5213143-4989-4325-b6c5-d2549f206ffc",
   "metadata": {
    "colab": {
     "base_uri": "https://localhost:8080/"
    },
    "id": "c5213143-4989-4325-b6c5-d2549f206ffc",
    "outputId": "25fcbd46-9d56-43a6-c3f4-ceb5026d3e90"
   },
   "outputs": [],
   "source": [
    "# Comprobar su R2 ajustado\n",
    "y_pred = modelo.predict(X_test)\n",
    "r2 = r2_score(y_test, y_pred)\n",
    "n = len(y_test)\n",
    "p = 5\n",
    "r2_ajustado = 1 - ((1 - r2) * (n - 1)) / (n - p - 1)\n",
    "print(f\"R^2 ajustado: {r2_ajustado}\")"
   ]
  },
  {
   "cell_type": "code",
   "execution_count": null,
   "id": "386b6faa-9920-44b9-8350-32921cb119e3",
   "metadata": {
    "colab": {
     "base_uri": "https://localhost:8080/"
    },
    "id": "386b6faa-9920-44b9-8350-32921cb119e3",
    "outputId": "59b2c671-f4b7-4c66-beeb-fcc36f12e8fb"
   },
   "outputs": [],
   "source": [
    "# Valores de predicción\n",
    "print(y_pred)"
   ]
  },
  {
   "cell_type": "markdown",
   "id": "b525696f-a28b-4e34-9bfb-2f6670abb80d",
   "metadata": {
    "id": "b525696f-a28b-4e34-9bfb-2f6670abb80d"
   },
   "source": [
    "### Hacemos el ejemplo de una casa con accensor en el centro de 75m2 con 2 habitaciones y 1 baño"
   ]
  },
  {
   "cell_type": "code",
   "execution_count": null,
   "id": "5586f015-993a-4a0e-baac-3a8863d5303f",
   "metadata": {
    "colab": {
     "base_uri": "https://localhost:8080/"
    },
    "id": "5586f015-993a-4a0e-baac-3a8863d5303f",
    "outputId": "5897b328-5d97-4a3b-d24b-74d2ee2bd6f5"
   },
   "outputs": [],
   "source": [
    "# Ejemplo de predicción\n",
    "modelo.predict([[True,1,74,2,1]])"
   ]
  },
  {
   "cell_type": "markdown",
   "id": "IDqXm8_eSzd0",
   "metadata": {
    "id": "IDqXm8_eSzd0"
   },
   "source": [
    "#### Guardar modelo para su posterior uso"
   ]
  },
  {
   "cell_type": "code",
   "execution_count": null,
   "id": "NEMscUMkRq4j",
   "metadata": {
    "id": "NEMscUMkRq4j"
   },
   "outputs": [],
   "source": [
    "# Guardar modelo\n",
    "#joblib.dump(decission_tree, \"modelo_final.pkl\")"
   ]
  }
 ],
 "metadata": {
  "colab": {
   "provenance": []
  },
  "kernelspec": {
   "display_name": "Python 3 (ipykernel)",
   "language": "python",
   "name": "python3"
  },
  "language_info": {
   "codemirror_mode": {
    "name": "ipython",
    "version": 3
   },
   "file_extension": ".py",
   "mimetype": "text/x-python",
   "name": "python",
   "nbconvert_exporter": "python",
   "pygments_lexer": "ipython3",
   "version": "3.11.7"
  }
 },
 "nbformat": 4,
 "nbformat_minor": 5
}
